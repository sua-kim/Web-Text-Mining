{
 "cells": [
  {
   "cell_type": "markdown",
   "metadata": {},
   "source": [
    "## [2021-1] 웹과 텍스트마이닝 개론 기말 프로젝트\n",
    "\n",
    "### 주제: 쇼핑 리뷰 크롤링 데이터를 바탕으로 특정 상품 최신 리뷰의 감성 경향 분석\n",
    "\n",
    "#### 휴먼기계바이오공학부 1870021 김수아\n",
    "\n",
    "#### * 프로젝트 설명: \n",
    "1. 데이터의 종류: 네이버 쇼핑 사이트에서 제공하는 리뷰를 스크래핑한 데이터\n",
    "    (긍정리뷰 1200개 + 부정리뷰 1140개 = 총 2460개 데이터 크롤링)\n",
    "2. 웹 스크래핑 포함 여부 : 포함\n",
    "3. 텍스트마이닝 관련 코드 포함 여부 : 데이터 전처리 코드 및 LSTM 기반 감성분류 코드 포함"
   ]
  },
  {
   "cell_type": "markdown",
   "metadata": {},
   "source": [
    "### 1. 데이터 수집\n",
    "\n",
    "- [네이버 쇼핑](http://www.bosa.co.kr/)의 화장품/미용>스킨케어의 가장 많은 리뷰를 가진 상품의 리뷰 내용을 중심으로 스크래핑하였다.\n",
    "- 리뷰내용과 별점은 selenium의 webdriver 모듈을 활용하여 수집하였다.\n",
    "- 이 때, 4점에서 5점은 긍정적인 리뷰, 1점에서 3점은 부정적인 리뷰로 분류하였다."
   ]
  },
  {
   "cell_type": "code",
   "execution_count": 1,
   "metadata": {},
   "outputs": [],
   "source": [
    "import numpy as np\n",
    "import pandas as pd\n",
    "import matplotlib.pyplot as plt\n",
    "\n",
    "# 리뷰 본문 스크래핑을 위한 라이브러리\n",
    "from selenium import webdriver\n",
    "\n",
    "# selenium stale 에러 해결 위한 모듈\n",
    "import time\n",
    "\n",
    "import warnings\n",
    "warnings.filterwarnings('ignore')"
   ]
  },
  {
   "cell_type": "code",
   "execution_count": 2,
   "metadata": {},
   "outputs": [],
   "source": [
    "# 리뷰 수가 가장 많은 상품(피지오겔 로션)의 평점 리뷰 데이터 확보\n",
    "url = 'https://search.shopping.naver.com/catalog/9273983533?NaPm=ct%3Dkpuvecfs%7Cci%3D9a5c1f46854ea7803cc4ed99991437bd0e517721%7Ctr%3Dslsl%7Csn%3D95694%7Chk%3D8bb3b48c8f518ad9bfeaf1eb724a0ed95b252336'"
   ]
  },
  {
   "cell_type": "markdown",
   "metadata": {},
   "source": [
    "- 긍정 리뷰 데이터 수집\n",
    "    - positive 데이터 프레임에 저장"
   ]
  },
  {
   "cell_type": "code",
   "execution_count": 3,
   "metadata": {},
   "outputs": [],
   "source": [
    "# 긍정 리뷰: 4점~5점\n",
    "\n",
    "driver = webdriver.Chrome('./chromedriver')\n",
    "driver.implicitly_wait(3)\n",
    "\n",
    "positive_content_list=[]\n",
    "\n",
    "for positive in [2, 3]:\n",
    "    # 해당 url에 해당하는 페이지를 가져옴\n",
    "    driver.get(url)\n",
    "    \n",
    "    # 평점 선택(4점~5점)\n",
    "    driver.find_element_by_xpath('//*[@id=\"section_review\"]/div[2]/div[2]/ul/li[%s]/a' %positive).click()\n",
    "    time.sleep(2)\n",
    "    driver.find_element_by_xpath('//*[@id=\"section_review\"]/div[3]/a[11]').click()\n",
    "    time.sleep(2)\n",
    "        \n",
    "    for maxPage in range(3):\n",
    "        for page in range(2,12):\n",
    "            for child in range(1, 21): \n",
    "                content = driver.find_element_by_css_selector('#section_review > ul > li:nth-child(%s) > div.reviewItems_review__1eF8A > div.reviewItems_review_text__2Bwpa > p' %child)\n",
    "                time.sleep(2)\n",
    "                positive_content_list.append(content.text)\n",
    "            driver.find_element_by_xpath('//*[@id=\"section_review\"]/div[3]/a[%s]' %page).click()\n",
    "            time.sleep(2)\n",
    "        driver.find_element_by_xpath('//*[@id=\"section_review\"]/div[3]/a[12]').click()\n",
    "        time.sleep(2)"
   ]
  },
  {
   "cell_type": "code",
   "execution_count": 4,
   "metadata": {},
   "outputs": [
    {
     "name": "stdout",
     "output_type": "stream",
     "text": [
      "긍정 리뷰 개수: 1200\n"
     ]
    }
   ],
   "source": [
    "# 데이터 확인\n",
    "\n",
    "print(\"긍정 리뷰 개수: \", end ='')\n",
    "print(len(positive_content_list))"
   ]
  },
  {
   "cell_type": "code",
   "execution_count": 5,
   "metadata": {},
   "outputs": [
    {
     "data": {
      "text/html": [
       "<div>\n",
       "<style scoped>\n",
       "    .dataframe tbody tr th:only-of-type {\n",
       "        vertical-align: middle;\n",
       "    }\n",
       "\n",
       "    .dataframe tbody tr th {\n",
       "        vertical-align: top;\n",
       "    }\n",
       "\n",
       "    .dataframe thead th {\n",
       "        text-align: right;\n",
       "    }\n",
       "</style>\n",
       "<table border=\"1\" class=\"dataframe\">\n",
       "  <thead>\n",
       "    <tr style=\"text-align: right;\">\n",
       "      <th></th>\n",
       "      <th>content</th>\n",
       "      <th>label</th>\n",
       "    </tr>\n",
       "  </thead>\n",
       "  <tbody>\n",
       "    <tr>\n",
       "      <th>0</th>\n",
       "      <td>잘쓸께요~ 일단 배송빨랐구요~가격도 다른곳에비해 싸게잘샀어요~샘플이 많아서 좋네요~...</td>\n",
       "      <td>1</td>\n",
       "    </tr>\n",
       "    <tr>\n",
       "      <th>1</th>\n",
       "      <td>늘 쓰던겁니다.저한테는 요상품이 제일 잘맞고 가장 촉촉함이 오래갑니다.겨울엔 요것만...</td>\n",
       "      <td>1</td>\n",
       "    </tr>\n",
       "    <tr>\n",
       "      <th>2</th>\n",
       "      <td>피지오겔 페이셜처음 써봐요..농도가 묽지도 되직하지도 않게 여름에 쓰기 딱좋아요.....</td>\n",
       "      <td>1</td>\n",
       "    </tr>\n",
       "    <tr>\n",
       "      <th>3</th>\n",
       "      <td>악곤성에 민감성이라서 크림, 로션은 피지오겔만 쓰는데, 바디로션은 첨 시켜봤어요. ...</td>\n",
       "      <td>1</td>\n",
       "    </tr>\n",
       "    <tr>\n",
       "      <th>4</th>\n",
       "      <td>피지오겔 좋다는건 익히 들어 알았지만 막상 내가 써보니 보습력이 짱이네요^^ 더운 ...</td>\n",
       "      <td>1</td>\n",
       "    </tr>\n",
       "    <tr>\n",
       "      <th>...</th>\n",
       "      <td>...</td>\n",
       "      <td>...</td>\n",
       "    </tr>\n",
       "    <tr>\n",
       "      <th>1195</th>\n",
       "      <td>잘받았습니다~~\\n샘플로 주는거 쓰고있는데 잘 맞아요.\\n본품도 잘맞길..</td>\n",
       "      <td>1</td>\n",
       "    </tr>\n",
       "    <tr>\n",
       "      <th>1196</th>\n",
       "      <td>추가구성 안와서 보내달라고 했는데 잘 처리해주셔서 감사합니다</td>\n",
       "      <td>1</td>\n",
       "    </tr>\n",
       "    <tr>\n",
       "      <th>1197</th>\n",
       "      <td>피부다극없고 향도 자극적이지않고 촉촉하니 좋아요</td>\n",
       "      <td>1</td>\n",
       "    </tr>\n",
       "    <tr>\n",
       "      <th>1198</th>\n",
       "      <td>확실히 피지오겔 바르고나면 촉촉해요</td>\n",
       "      <td>1</td>\n",
       "    </tr>\n",
       "    <tr>\n",
       "      <th>1199</th>\n",
       "      <td>저는 순하다해서 썼는데 의외로 오래도록 안씻어내면 피부자극이 생기네요 그런점에선 스...</td>\n",
       "      <td>1</td>\n",
       "    </tr>\n",
       "  </tbody>\n",
       "</table>\n",
       "<p>1200 rows × 2 columns</p>\n",
       "</div>"
      ],
      "text/plain": [
       "                                                content  label\n",
       "0     잘쓸께요~ 일단 배송빨랐구요~가격도 다른곳에비해 싸게잘샀어요~샘플이 많아서 좋네요~...      1\n",
       "1     늘 쓰던겁니다.저한테는 요상품이 제일 잘맞고 가장 촉촉함이 오래갑니다.겨울엔 요것만...      1\n",
       "2     피지오겔 페이셜처음 써봐요..농도가 묽지도 되직하지도 않게 여름에 쓰기 딱좋아요.....      1\n",
       "3     악곤성에 민감성이라서 크림, 로션은 피지오겔만 쓰는데, 바디로션은 첨 시켜봤어요. ...      1\n",
       "4     피지오겔 좋다는건 익히 들어 알았지만 막상 내가 써보니 보습력이 짱이네요^^ 더운 ...      1\n",
       "...                                                 ...    ...\n",
       "1195          잘받았습니다~~\\n샘플로 주는거 쓰고있는데 잘 맞아요.\\n본품도 잘맞길..      1\n",
       "1196                  추가구성 안와서 보내달라고 했는데 잘 처리해주셔서 감사합니다      1\n",
       "1197                         피부다극없고 향도 자극적이지않고 촉촉하니 좋아요      1\n",
       "1198                                확실히 피지오겔 바르고나면 촉촉해요      1\n",
       "1199  저는 순하다해서 썼는데 의외로 오래도록 안씻어내면 피부자극이 생기네요 그런점에선 스...      1\n",
       "\n",
       "[1200 rows x 2 columns]"
      ]
     },
     "execution_count": 5,
     "metadata": {},
     "output_type": "execute_result"
    }
   ],
   "source": [
    "# 긍정 리뷰 라벨링: 1\n",
    "positive_label_list = [1 for i in range(len(positive_content_list))]\n",
    "\n",
    "# 긍정 리뷰에 대한 데이터프레임 생성\n",
    "positive = pd.DataFrame({'content': positive_content_list,\n",
    "                   'label': positive_label_list})\n",
    "\n",
    "positive"
   ]
  },
  {
   "cell_type": "markdown",
   "metadata": {},
   "source": [
    "- 부정 리뷰 데이터 수집\n",
    "    - negative 데이터 프레임에 저장"
   ]
  },
  {
   "cell_type": "code",
   "execution_count": 9,
   "metadata": {},
   "outputs": [],
   "source": [
    "# 부정 리뷰 저장하는 리스트\n",
    "negative_content_list=[]\n",
    "\n",
    "# 2점\n",
    "\n",
    "driver = webdriver.Chrome('./chromedriver')\n",
    "driver.implicitly_wait(3)\n",
    "\n",
    "# 해당 url에 해당하는 페이지를 가져옴\n",
    "driver.get(url)\n",
    "    \n",
    "# 평점 선택(2점)\n",
    "driver.find_element_by_xpath('//*[@id=\"section_review\"]/div[2]/div[2]/ul/li[5]/a').click()\n",
    "time.sleep(2)\n",
    "        \n",
    "for page in range(1,9):\n",
    "    for child in range(1, 21): \n",
    "        content = driver.find_element_by_css_selector('#section_review > ul > li:nth-child(%s) > div.reviewItems_review__1eF8A > div.reviewItems_review_text__2Bwpa > p' %child)\n",
    "        time.sleep(2)\n",
    "        negative_content_list.append(content.text)\n",
    "        driver.find_element_by_xpath('//*[@id=\"section_review\"]/div[3]/a[%s]' %page).click()\n",
    "        time.sleep(2)"
   ]
  },
  {
   "cell_type": "code",
   "execution_count": 10,
   "metadata": {},
   "outputs": [],
   "source": [
    "# 1점\n",
    "\n",
    "driver = webdriver.Chrome('./chromedriver')\n",
    "driver.implicitly_wait(3)\n",
    "\n",
    "# 해당 url에 해당하는 페이지를 가져옴\n",
    "driver.get(url)\n",
    "    \n",
    "# 평점 선택(1점)\n",
    "driver.find_element_by_xpath('//*[@id=\"section_review\"]/div[2]/div[2]/ul/li[6]/a').click()\n",
    "time.sleep(2)\n",
    "        \n",
    "for page in range(1,6):\n",
    "    for child in range(1, 21): \n",
    "        content = driver.find_element_by_css_selector('#section_review > ul > li:nth-child(%s) > div.reviewItems_review__1eF8A > div.reviewItems_review_text__2Bwpa > p' %child)\n",
    "        time.sleep(2)\n",
    "        negative_content_list.append(content.text)\n",
    "        driver.find_element_by_xpath('//*[@id=\"section_review\"]/div[3]/a[%s]' %page).click()\n",
    "        time.sleep(2)"
   ]
  },
  {
   "cell_type": "code",
   "execution_count": 11,
   "metadata": {},
   "outputs": [
    {
     "name": "stdout",
     "output_type": "stream",
     "text": [
      "부정 리뷰 개수: 260\n"
     ]
    }
   ],
   "source": [
    "# 데이터 확인\n",
    "print(\"부정 리뷰 개수: \", end ='')\n",
    "print(len(negative_content_list))"
   ]
  },
  {
   "cell_type": "markdown",
   "metadata": {},
   "source": [
    "- 긍정 리뷰 데이터와 수를 맞추기 위해 부정 리뷰에 대한 웹 스크롤링 추가 진행"
   ]
  },
  {
   "cell_type": "code",
   "execution_count": 12,
   "metadata": {},
   "outputs": [],
   "source": [
    "driver = webdriver.Chrome('./chromedriver')\n",
    "driver.implicitly_wait(3)\n",
    "\n",
    "\n",
    "driver.get('https://search.shopping.naver.com/catalog/14275632421?NaPm=ct%3Dkpvc8iyw%7Cci%3Df559404be3b8b84bea9e11b8ee1606ec6386de41%7Ctr%3Dslsl%7Csn%3D95694%7Chk%3Dc43561f1fe5c35852a7e25164fe7134ab78cc01c')\n",
    "driver.find_element_by_xpath('//*[@id=\"section_review\"]/div[2]/div[2]/ul/li[5]/a').click()\n",
    "time.sleep(2)\n",
    "        \n",
    "for page in range(1,10):\n",
    "    for child in range(1, 21): \n",
    "        content = driver.find_element_by_css_selector('#section_review > ul > li:nth-child(%s) > div.reviewItems_review__1eF8A > div.reviewItems_review_text__2Bwpa > p' %child)\n",
    "        time.sleep(2)\n",
    "        negative_content_list.append(content.text)\n",
    "        driver.find_element_by_xpath('//*[@id=\"section_review\"]/div[3]/a[%s]' %page).click()\n",
    "        time.sleep(2)"
   ]
  },
  {
   "cell_type": "code",
   "execution_count": 13,
   "metadata": {},
   "outputs": [],
   "source": [
    "driver = webdriver.Chrome('./chromedriver')\n",
    "driver.implicitly_wait(3)\n",
    "\n",
    "\n",
    "driver.get('https://search.shopping.naver.com/catalog/4048397218?NaPm=ct%3Dkpvcmz14%7Cci%3D79d7ce4b128df52f8e0666ad9439929a733170f8%7Ctr%3Dslsl%7Csn%3D95694%7Chk%3D7c37ca30f853d3e7bdab06325eb0bf4bc3afc7ae')\n",
    "driver.find_element_by_xpath('//*[@id=\"section_review\"]/div[2]/div[2]/ul/li[5]/a').click()\n",
    "time.sleep(2)\n",
    "        \n",
    "for page in range(1,11):\n",
    "    for child in range(1, 21): \n",
    "        content = driver.find_element_by_css_selector('#section_review > ul > li:nth-child(%s) > div.reviewItems_review__1eF8A > div.reviewItems_review_text__2Bwpa > p' %child)\n",
    "        time.sleep(2)\n",
    "        negative_content_list.append(content.text)\n",
    "        driver.find_element_by_xpath('//*[@id=\"section_review\"]/div[3]/a[%s]' %page).click()\n",
    "        time.sleep(2)"
   ]
  },
  {
   "cell_type": "code",
   "execution_count": 14,
   "metadata": {},
   "outputs": [],
   "source": [
    "driver = webdriver.Chrome('./chromedriver')\n",
    "driver.implicitly_wait(3)\n",
    "\n",
    "\n",
    "driver.get('https://search.shopping.naver.com/catalog/4048397218?NaPm=ct%3Dkpvcmz14%7Cci%3D79d7ce4b128df52f8e0666ad9439929a733170f8%7Ctr%3Dslsl%7Csn%3D95694%7Chk%3D7c37ca30f853d3e7bdab06325eb0bf4bc3afc7ae')\n",
    "driver.find_element_by_xpath('//*[@id=\"section_review\"]/div[2]/div[2]/ul/li[5]/a').click()\n",
    "time.sleep(2)\n",
    "driver.find_element_by_xpath('//*[@id=\"section_review\"]/div[3]/a[11]').click()\n",
    "time.sleep(2)\n",
    "        \n",
    "for page in range(2,12):\n",
    "    for child in range(1, 21): \n",
    "        content = driver.find_element_by_css_selector('#section_review > ul > li:nth-child(%s) > div.reviewItems_review__1eF8A > div.reviewItems_review_text__2Bwpa > p' %child)\n",
    "        time.sleep(2)\n",
    "        negative_content_list.append(content.text)\n",
    "        driver.find_element_by_xpath('//*[@id=\"section_review\"]/div[3]/a[%s]' %page).click()\n",
    "        time.sleep(2)"
   ]
  },
  {
   "cell_type": "code",
   "execution_count": 16,
   "metadata": {},
   "outputs": [],
   "source": [
    "driver = webdriver.Chrome('./chromedriver')\n",
    "driver.implicitly_wait(3)\n",
    "\n",
    "\n",
    "driver.get('https://search.shopping.naver.com/catalog/4048397218?NaPm=ct%3Dkpvcmz14%7Cci%3D79d7ce4b128df52f8e0666ad9439929a733170f8%7Ctr%3Dslsl%7Csn%3D95694%7Chk%3D7c37ca30f853d3e7bdab06325eb0bf4bc3afc7ae')\n",
    "driver.find_element_by_xpath('//*[@id=\"section_review\"]/div[2]/div[2]/ul/li[6]/a').click()\n",
    "time.sleep(2)\n",
    "        \n",
    "for page in range(1,6):\n",
    "    for child in range(1, 21): \n",
    "        content = driver.find_element_by_css_selector('#section_review > ul > li:nth-child(%s) > div.reviewItems_review__1eF8A > div.reviewItems_review_text__2Bwpa > p' %child)\n",
    "        time.sleep(2)\n",
    "        negative_content_list.append(content.text)\n",
    "        driver.find_element_by_xpath('//*[@id=\"section_review\"]/div[3]/a[%s]' %page).click()\n",
    "        time.sleep(2)"
   ]
  },
  {
   "cell_type": "code",
   "execution_count": 18,
   "metadata": {},
   "outputs": [],
   "source": [
    "driver = webdriver.Chrome('./chromedriver')\n",
    "driver.implicitly_wait(3)\n",
    "\n",
    "\n",
    "driver.get('https://search.shopping.naver.com/catalog/13304339329?NaPm=ct%3Dkpvckhiw%7Cci%3D5f36bf8ff02578236a343db2e841da86c6f91b43%7Ctr%3Dslsl%7Csn%3D95694%7Chk%3D6a34e240effcf43fce66eeee2d38db1e2f43efb2')\n",
    "driver.find_element_by_xpath('//*[@id=\"section_review\"]/div[2]/div[2]/ul/li[5]/a').click()\n",
    "time.sleep(2)\n",
    "        \n",
    "for page in range(1,11):\n",
    "    for child in range(1, 21): \n",
    "        content = driver.find_element_by_css_selector('#section_review > ul > li:nth-child(%s) > div.reviewItems_review__1eF8A > div.reviewItems_review_text__2Bwpa > p' %child)\n",
    "        time.sleep(2)\n",
    "        negative_content_list.append(content.text)\n",
    "        driver.find_element_by_xpath('//*[@id=\"section_review\"]/div[3]/a[%s]' %page).click()\n",
    "        time.sleep(2)"
   ]
  },
  {
   "cell_type": "code",
   "execution_count": 19,
   "metadata": {},
   "outputs": [
    {
     "name": "stdout",
     "output_type": "stream",
     "text": [
      "1140\n"
     ]
    }
   ],
   "source": [
    "print(len(negative_content_list))"
   ]
  },
  {
   "cell_type": "code",
   "execution_count": 20,
   "metadata": {},
   "outputs": [
    {
     "data": {
      "text/html": [
       "<div>\n",
       "<style scoped>\n",
       "    .dataframe tbody tr th:only-of-type {\n",
       "        vertical-align: middle;\n",
       "    }\n",
       "\n",
       "    .dataframe tbody tr th {\n",
       "        vertical-align: top;\n",
       "    }\n",
       "\n",
       "    .dataframe thead th {\n",
       "        text-align: right;\n",
       "    }\n",
       "</style>\n",
       "<table border=\"1\" class=\"dataframe\">\n",
       "  <thead>\n",
       "    <tr style=\"text-align: right;\">\n",
       "      <th></th>\n",
       "      <th>content</th>\n",
       "      <th>label</th>\n",
       "    </tr>\n",
       "  </thead>\n",
       "  <tbody>\n",
       "    <tr>\n",
       "      <th>0</th>\n",
       "      <td>감사합니다. 항 상 주문하는 상품 입니다. 다들 아시는 상품이니 뭐 이젠 왠지 집안...</td>\n",
       "      <td>0</td>\n",
       "    </tr>\n",
       "    <tr>\n",
       "      <th>1</th>\n",
       "      <td>아기가 태어날때부터 항상쓰던 피지오겔이라 사은품도주고 가격도괜찮아서 구매했어요. 근...</td>\n",
       "      <td>0</td>\n",
       "    </tr>\n",
       "    <tr>\n",
       "      <th>2</th>\n",
       "      <td>용기의 원터치캡이 넘 헐렁해요 여행 갈때도 들고 다니기 좋고 떨어뜨려도 깨질 염려도...</td>\n",
       "      <td>0</td>\n",
       "    </tr>\n",
       "    <tr>\n",
       "      <th>3</th>\n",
       "      <td>제품뒷면 피지오겔글씨아래에 용량이위치해있어서맞는지문의드렸는데 네 라고답변이~~화장품...</td>\n",
       "      <td>0</td>\n",
       "    </tr>\n",
       "    <tr>\n",
       "      <th>4</th>\n",
       "      <td>저에겐 명성만큼 놀랍진 않았네요 어느날부터 갑자기 피부가 극예민해져서 기초제품부터 ...</td>\n",
       "      <td>0</td>\n",
       "    </tr>\n",
       "    <tr>\n",
       "      <th>...</th>\n",
       "      <td>...</td>\n",
       "      <td>...</td>\n",
       "    </tr>\n",
       "    <tr>\n",
       "      <th>1135</th>\n",
       "      <td>8/20에 주문했는데 이제받음</td>\n",
       "      <td>0</td>\n",
       "    </tr>\n",
       "    <tr>\n",
       "      <th>1136</th>\n",
       "      <td>배송이 정말 2달걸린듯</td>\n",
       "      <td>0</td>\n",
       "    </tr>\n",
       "    <tr>\n",
       "      <th>1137</th>\n",
       "      <td>배송이 오래걸림</td>\n",
       "      <td>0</td>\n",
       "    </tr>\n",
       "    <tr>\n",
       "      <th>1138</th>\n",
       "      <td>배송 엄청 느렸어요 추석이끼었다지만 8월말에시킨게 10월 초에오다니 ㄷㄷㄷ</td>\n",
       "      <td>0</td>\n",
       "    </tr>\n",
       "    <tr>\n",
       "      <th>1139</th>\n",
       "      <td>배송이너무느리네요.</td>\n",
       "      <td>0</td>\n",
       "    </tr>\n",
       "  </tbody>\n",
       "</table>\n",
       "<p>1140 rows × 2 columns</p>\n",
       "</div>"
      ],
      "text/plain": [
       "                                                content  label\n",
       "0     감사합니다. 항 상 주문하는 상품 입니다. 다들 아시는 상품이니 뭐 이젠 왠지 집안...      0\n",
       "1     아기가 태어날때부터 항상쓰던 피지오겔이라 사은품도주고 가격도괜찮아서 구매했어요. 근...      0\n",
       "2     용기의 원터치캡이 넘 헐렁해요 여행 갈때도 들고 다니기 좋고 떨어뜨려도 깨질 염려도...      0\n",
       "3     제품뒷면 피지오겔글씨아래에 용량이위치해있어서맞는지문의드렸는데 네 라고답변이~~화장품...      0\n",
       "4     저에겐 명성만큼 놀랍진 않았네요 어느날부터 갑자기 피부가 극예민해져서 기초제품부터 ...      0\n",
       "...                                                 ...    ...\n",
       "1135                                   8/20에 주문했는데 이제받음      0\n",
       "1136                                       배송이 정말 2달걸린듯      0\n",
       "1137                                           배송이 오래걸림      0\n",
       "1138          배송 엄청 느렸어요 추석이끼었다지만 8월말에시킨게 10월 초에오다니 ㄷㄷㄷ      0\n",
       "1139                                         배송이너무느리네요.      0\n",
       "\n",
       "[1140 rows x 2 columns]"
      ]
     },
     "execution_count": 20,
     "metadata": {},
     "output_type": "execute_result"
    }
   ],
   "source": [
    "# 부정 리뷰 라벨링: 0\n",
    "negative_label_list = [0 for i in range(len(negative_content_list))]\n",
    "\n",
    "# 부정 리뷰에 대한 데이터프레임 생성\n",
    "negative = pd.DataFrame({'content': negative_content_list,\n",
    "                   'label': negative_label_list})\n",
    "\n",
    "negative"
   ]
  },
  {
   "cell_type": "code",
   "execution_count": 21,
   "metadata": {},
   "outputs": [],
   "source": [
    "# 훈련용/테스트용 데이터셋 완성: 긍정/부정 데이터프레임 결합\n",
    "# train과 test 데이터 셋은 9:1의 비율로 지정\n",
    "\n",
    "train_data = pd.concat([positive[:1080], negative[:1026]])\n",
    "test_data = pd.concat([positive[1080:], negative[1026:]])"
   ]
  },
  {
   "cell_type": "code",
   "execution_count": 22,
   "metadata": {},
   "outputs": [],
   "source": [
    "# 데이터 섞기\n",
    "train_data = train_data.sample(frac=1).reset_index(drop=True)\n",
    "test_data = test_data.sample(frac=1).reset_index(drop=True)"
   ]
  },
  {
   "cell_type": "code",
   "execution_count": 23,
   "metadata": {},
   "outputs": [
    {
     "name": "stdout",
     "output_type": "stream",
     "text": [
      "train 리뷰 개수 : 2106\n",
      "test 리뷰 개수 : 234\n"
     ]
    }
   ],
   "source": [
    "# 최종 데이터 확인\n",
    "\n",
    "print('train 리뷰 개수 :',len(train_data))\n",
    "print('test 리뷰 개수 :',len(test_data))"
   ]
  },
  {
   "cell_type": "code",
   "execution_count": 24,
   "metadata": {},
   "outputs": [
    {
     "data": {
      "text/html": [
       "<div>\n",
       "<style scoped>\n",
       "    .dataframe tbody tr th:only-of-type {\n",
       "        vertical-align: middle;\n",
       "    }\n",
       "\n",
       "    .dataframe tbody tr th {\n",
       "        vertical-align: top;\n",
       "    }\n",
       "\n",
       "    .dataframe thead th {\n",
       "        text-align: right;\n",
       "    }\n",
       "</style>\n",
       "<table border=\"1\" class=\"dataframe\">\n",
       "  <thead>\n",
       "    <tr style=\"text-align: right;\">\n",
       "      <th></th>\n",
       "      <th>content</th>\n",
       "      <th>label</th>\n",
       "    </tr>\n",
       "  </thead>\n",
       "  <tbody>\n",
       "    <tr>\n",
       "      <th>0</th>\n",
       "      <td>키엘 처음 써보는건데 아직 사용은 안해봐서 잘 모르겠구요 유명한 만큼 좋긴 하겠죠 ...</td>\n",
       "      <td>0</td>\n",
       "    </tr>\n",
       "    <tr>\n",
       "      <th>1</th>\n",
       "      <td>항상 사용중인 피지오겔 로션 저렴하게 구입했습니다. 배송도 매우 빠릅니다. 잘 받았...</td>\n",
       "      <td>1</td>\n",
       "    </tr>\n",
       "    <tr>\n",
       "      <th>2</th>\n",
       "      <td>맘에 듭니다 배송도 빠르고 as도 잘 처리해주셨습니다</td>\n",
       "      <td>1</td>\n",
       "    </tr>\n",
       "    <tr>\n",
       "      <th>3</th>\n",
       "      <td>아토피 피부에 자극없이 좋아요</td>\n",
       "      <td>1</td>\n",
       "    </tr>\n",
       "    <tr>\n",
       "      <th>4</th>\n",
       "      <td>예전에 쓰다가 이번에 다시 쓰는데 좋네요</td>\n",
       "      <td>1</td>\n",
       "    </tr>\n",
       "  </tbody>\n",
       "</table>\n",
       "</div>"
      ],
      "text/plain": [
       "                                             content  label\n",
       "0  키엘 처음 써보는건데 아직 사용은 안해봐서 잘 모르겠구요 유명한 만큼 좋긴 하겠죠 ...      0\n",
       "1  항상 사용중인 피지오겔 로션 저렴하게 구입했습니다. 배송도 매우 빠릅니다. 잘 받았...      1\n",
       "2                      맘에 듭니다 배송도 빠르고 as도 잘 처리해주셨습니다      1\n",
       "3                                   아토피 피부에 자극없이 좋아요      1\n",
       "4                             예전에 쓰다가 이번에 다시 쓰는데 좋네요      1"
      ]
     },
     "execution_count": 24,
     "metadata": {},
     "output_type": "execute_result"
    }
   ],
   "source": [
    "# 훈련용 데이터 상위 5개 데이터 확인\n",
    "train_data[:5]"
   ]
  },
  {
   "cell_type": "code",
   "execution_count": 25,
   "metadata": {},
   "outputs": [
    {
     "data": {
      "text/html": [
       "<div>\n",
       "<style scoped>\n",
       "    .dataframe tbody tr th:only-of-type {\n",
       "        vertical-align: middle;\n",
       "    }\n",
       "\n",
       "    .dataframe tbody tr th {\n",
       "        vertical-align: top;\n",
       "    }\n",
       "\n",
       "    .dataframe thead th {\n",
       "        text-align: right;\n",
       "    }\n",
       "</style>\n",
       "<table border=\"1\" class=\"dataframe\">\n",
       "  <thead>\n",
       "    <tr style=\"text-align: right;\">\n",
       "      <th></th>\n",
       "      <th>content</th>\n",
       "      <th>label</th>\n",
       "    </tr>\n",
       "  </thead>\n",
       "  <tbody>\n",
       "    <tr>\n",
       "      <th>0</th>\n",
       "      <td>쓰던거라 만족하면 사용중이에요</td>\n",
       "      <td>1</td>\n",
       "    </tr>\n",
       "    <tr>\n",
       "      <th>1</th>\n",
       "      <td>원래쓰던 제품인데 여름엔 너무 안맞네여ㅜㅜ</td>\n",
       "      <td>1</td>\n",
       "    </tr>\n",
       "    <tr>\n",
       "      <th>2</th>\n",
       "      <td>배송도 빠르고 피부에도 잘맞아서 주문했어요</td>\n",
       "      <td>1</td>\n",
       "    </tr>\n",
       "    <tr>\n",
       "      <th>3</th>\n",
       "      <td>피부에 잘맞는지 알아보고 구매하는게.. 유분이 정말 많거나 문제성 피부에만 맞는 앰...</td>\n",
       "      <td>0</td>\n",
       "    </tr>\n",
       "    <tr>\n",
       "      <th>4</th>\n",
       "      <td>잘 받았습니다. 근데 리뉴얼 버전은 그닥 효과가 없는 것 같네요,</td>\n",
       "      <td>0</td>\n",
       "    </tr>\n",
       "  </tbody>\n",
       "</table>\n",
       "</div>"
      ],
      "text/plain": [
       "                                             content  label\n",
       "0                                   쓰던거라 만족하면 사용중이에요      1\n",
       "1                            원래쓰던 제품인데 여름엔 너무 안맞네여ㅜㅜ      1\n",
       "2                            배송도 빠르고 피부에도 잘맞아서 주문했어요      1\n",
       "3  피부에 잘맞는지 알아보고 구매하는게.. 유분이 정말 많거나 문제성 피부에만 맞는 앰...      0\n",
       "4               잘 받았습니다. 근데 리뉴얼 버전은 그닥 효과가 없는 것 같네요,      0"
      ]
     },
     "execution_count": 25,
     "metadata": {},
     "output_type": "execute_result"
    }
   ],
   "source": [
    "# 테스트용 데이터 상위 5개 데이터 확인\n",
    "test_data[:5]"
   ]
  },
  {
   "cell_type": "markdown",
   "metadata": {},
   "source": [
    "- 데이터 분포 확인"
   ]
  },
  {
   "cell_type": "code",
   "execution_count": 26,
   "metadata": {},
   "outputs": [
    {
     "data": {
      "text/plain": [
       "<AxesSubplot:>"
      ]
     },
     "execution_count": 26,
     "metadata": {},
     "output_type": "execute_result"
    },
    {
     "data": {
      "image/png": "[encoded data removed]",
      "text/plain": [
       "<Figure size 432x288 with 1 Axes>"
      ]
     },
     "metadata": {
      "needs_background": "light"
     },
     "output_type": "display_data"
    }
   ],
   "source": [
    "# train 데이터\n",
    "train_data['label'].value_counts().plot(kind = 'bar')"
   ]
  },
  {
   "cell_type": "code",
   "execution_count": 27,
   "metadata": {},
   "outputs": [
    {
     "name": "stdout",
     "output_type": "stream",
     "text": [
      "   label  count\n",
      "0      0   1026\n",
      "1      1   1080\n"
     ]
    }
   ],
   "source": [
    "print(train_data.groupby('label').size().reset_index(name = 'count'))"
   ]
  },
  {
   "cell_type": "markdown",
   "metadata": {},
   "source": [
    "- 백업용 데이터 저장"
   ]
  },
  {
   "cell_type": "code",
   "execution_count": 29,
   "metadata": {},
   "outputs": [],
   "source": [
    "train_data.to_csv('C:/Users/sua91/2021-1 웹과텍스트마이닝개론/train.csv')"
   ]
  },
  {
   "cell_type": "code",
   "execution_count": 30,
   "metadata": {},
   "outputs": [],
   "source": [
    "test_data.to_csv('C:/Users/sua91/2021-1 웹과텍스트마이닝개론/test.csv')"
   ]
  }
 ],
 "metadata": {
  "kernelspec": {
   "display_name": "Python 3",
   "language": "python",
   "name": "python3"
  },
  "language_info": {
   "codemirror_mode": {
    "name": "ipython",
    "version": 3
   },
   "file_extension": ".py",
   "mimetype": "text/x-python",
   "name": "python",
   "nbconvert_exporter": "python",
   "pygments_lexer": "ipython3",
   "version": "3.8.8"
  }
 },
 "nbformat": 4,
 "nbformat_minor": 4
}
