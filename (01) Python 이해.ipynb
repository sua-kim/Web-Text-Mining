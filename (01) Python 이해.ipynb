{
 "cells": [
  {
   "cell_type": "markdown",
   "metadata": {},
   "source": [
    "# size\n",
    "\n",
    "## size\n",
    "\n",
    "### size\n",
    "\n",
    "\n",
    "### _Text_\n",
    "\n"
   ]
  },
  {
   "cell_type": "code",
   "execution_count": 1,
   "metadata": {},
   "outputs": [
    {
     "name": "stdout",
     "output_type": "stream",
     "text": [
      "Python 3.7.9\n"
     ]
    }
   ],
   "source": [
    "# python version 확인하기 \n",
    "\n",
    "\n",
    "!python --version"
   ]
  },
  {
   "cell_type": "markdown",
   "metadata": {},
   "source": [
    "\n",
    "   - 영문자(대, 소문자 구분), 숫자, 언더바(_) 를 사용할 수 있음\n",
    "   - 첫 자리에는 숫자를 사용할 수 없음\n",
    "   - 파이썬 키워드는 변수명으로 사용 불가\n",
    "\n"
   ]
  },
  {
   "cell_type": "markdown",
   "metadata": {},
   "source": [
    "## 1. Data Type : 숫자형 "
   ]
  },
  {
   "cell_type": "code",
   "execution_count": 2,
   "metadata": {},
   "outputs": [],
   "source": [
    "a = 123\n",
    "b = -178\n",
    "c = 0\n",
    "\n",
    "d = 1.2\n",
    "e = -3.45\n",
    "\n",
    "f = 4.24E10       # e와 E 둘 중 어느 것을 사용해도 무방 \n",
    "g = 4.24e-10\n"
   ]
  },
  {
   "cell_type": "code",
   "execution_count": 3,
   "metadata": {},
   "outputs": [
    {
     "name": "stdout",
     "output_type": "stream",
     "text": [
      "a-d =  121.8  a*b =  -21894   b/e =  51.59420289855072\n"
     ]
    }
   ],
   "source": [
    "print(\"a-d = \", a-d, \" a*b = \", a*b, \"  b/e = \", b/e)"
   ]
  },
  {
   "cell_type": "markdown",
   "metadata": {},
   "source": [
    "##  2. x의 y제곱을 나타내는 ** 연산자 "
   ]
  },
  {
   "cell_type": "code",
   "execution_count": 4,
   "metadata": {},
   "outputs": [
    {
     "name": "stdout",
     "output_type": "stream",
     "text": [
      "81\n"
     ]
    }
   ],
   "source": [
    "a = 3\n",
    "b = 4\n",
    "c = a ** b\n",
    "\n",
    "print(c)"
   ]
  },
  {
   "cell_type": "markdown",
   "metadata": {},
   "source": [
    "## 3. 나눗셈 후 몫을 반환하는 // 연산자"
   ]
  },
  {
   "cell_type": "code",
   "execution_count": 5,
   "metadata": {},
   "outputs": [
    {
     "name": "stdout",
     "output_type": "stream",
     "text": [
      "1.75\n",
      "\n",
      "\n",
      "1\n"
     ]
    }
   ],
   "source": [
    "d = 7 / 4\n",
    "\n",
    "d2 = 7 // 4\n",
    "\n",
    "print(d)\n",
    "print(\"\\n\")\n",
    "print(d2)"
   ]
  },
  {
   "cell_type": "markdown",
   "metadata": {},
   "source": [
    "## 4.나눗셈 후 나머지를 반환하는 % 연산자"
   ]
  },
  {
   "cell_type": "code",
   "execution_count": 6,
   "metadata": {},
   "outputs": [
    {
     "name": "stdout",
     "output_type": "stream",
     "text": [
      "1\n",
      "\n",
      "\n",
      "3\n"
     ]
    }
   ],
   "source": [
    "k = 7 % 3\n",
    "\n",
    "k2 = 3 % 7\n",
    "\n",
    "print(k)\n",
    "print(\"\\n\")\n",
    "print(k2)"
   ]
  },
  {
   "cell_type": "markdown",
   "metadata": {},
   "source": [
    "## 5. Data Type : 문자열 & 관련 함수들"
   ]
  },
  {
   "cell_type": "code",
   "execution_count": 7,
   "metadata": {},
   "outputs": [
    {
     "name": "stdout",
     "output_type": "stream",
     "text": [
      "Python is fun!\n"
     ]
    }
   ],
   "source": [
    "head = \"Python\"        \n",
    "tail = \" is fun!\"\n",
    "\n",
    "print(head + tail)"
   ]
  },
  {
   "cell_type": "code",
   "execution_count": 8,
   "metadata": {},
   "outputs": [
    {
     "name": "stdout",
     "output_type": "stream",
     "text": [
      "==================================================\n",
      "Python Program\n",
      "==================================================\n"
     ]
    }
   ],
   "source": [
    "print(\"=\" * 50)\n",
    "print(\"Python Program\")\n",
    "print(\"=\" * 50)"
   ]
  },
  {
   "cell_type": "code",
   "execution_count": 9,
   "metadata": {},
   "outputs": [
    {
     "data": {
      "text/plain": [
       "17"
      ]
     },
     "execution_count": 9,
     "metadata": {},
     "output_type": "execute_result"
    }
   ],
   "source": [
    "a = \"Life is too short\"\n",
    "\n",
    "len(a)"
   ]
  },
  {
   "attachments": {
    "image-2.png": {
     "image/png": "[encoded data removed]"
    },
    "image.png": {
     "image/png": "[encoded data removed]"
    }
   },
   "cell_type": "markdown",
   "metadata": {},
   "source": [
    "\n",
    "![image-2.png](attachment:image-2.png)\n",
    "\n",
    "![image.png](attachment:image.png)"
   ]
  },
  {
   "cell_type": "code",
   "execution_count": 10,
   "metadata": {},
   "outputs": [
    {
     "name": "stdout",
     "output_type": "stream",
     "text": [
      "L s n\n",
      "Life\n"
     ]
    }
   ],
   "source": [
    "a = \"Life is too short, You need Python\"\n",
    "\n",
    "print(a[0], a[12], a[-1])\n",
    "\n",
    "b = a[0] + a[1] + a[2] + a[3]\n",
    "\n",
    "print(b)"
   ]
  },
  {
   "cell_type": "code",
   "execution_count": 11,
   "metadata": {},
   "outputs": [
    {
     "name": "stdout",
     "output_type": "stream",
     "text": [
      "2\n"
     ]
    }
   ],
   "source": [
    "a = \"hobby\"\n",
    "\n",
    "print(a.count('b'))   # \"b\"의 갯수를 출력"
   ]
  },
  {
   "cell_type": "code",
   "execution_count": 12,
   "metadata": {},
   "outputs": [
    {
     "name": "stdout",
     "output_type": "stream",
     "text": [
      "14\n",
      "-1\n",
      "2\n"
     ]
    },
    {
     "ename": "ValueError",
     "evalue": "substring not found",
     "output_type": "error",
     "traceback": [
      "\u001b[1;31m---------------------------------------------------------------------------\u001b[0m",
      "\u001b[1;31mValueError\u001b[0m                                Traceback (most recent call last)",
      "\u001b[1;32m<ipython-input-12-384845750029>\u001b[0m in \u001b[0;36m<module>\u001b[1;34m\u001b[0m\n\u001b[0;32m      7\u001b[0m \u001b[0mprint\u001b[0m\u001b[1;33m(\u001b[0m\u001b[0ma\u001b[0m\u001b[1;33m.\u001b[0m\u001b[0mindex\u001b[0m\u001b[1;33m(\u001b[0m\u001b[1;34m't'\u001b[0m\u001b[1;33m)\u001b[0m\u001b[1;33m)\u001b[0m\u001b[1;33m\u001b[0m\u001b[1;33m\u001b[0m\u001b[0m\n\u001b[0;32m      8\u001b[0m \u001b[1;33m\u001b[0m\u001b[0m\n\u001b[1;32m----> 9\u001b[1;33m \u001b[0mprint\u001b[0m\u001b[1;33m(\u001b[0m\u001b[0ma\u001b[0m\u001b[1;33m.\u001b[0m\u001b[0mindex\u001b[0m\u001b[1;33m(\u001b[0m\u001b[1;34m'k'\u001b[0m\u001b[1;33m)\u001b[0m\u001b[1;33m)\u001b[0m  \u001b[1;31m# 불발시 에러를 출력\u001b[0m\u001b[1;33m\u001b[0m\u001b[1;33m\u001b[0m\u001b[0m\n\u001b[0m",
      "\u001b[1;31mValueError\u001b[0m: substring not found"
     ]
    }
   ],
   "source": [
    "a = \"Python is the best choice\"\n",
    "\n",
    "print(a.find('b'))\n",
    "\n",
    "print(a.find('k'))    # 불발시 -1를 return\n",
    "\n",
    "print(a.index('t'))\n",
    "\n",
    "print(a.index('k'))  # 불발시 에러를 출력"
   ]
  },
  {
   "cell_type": "code",
   "execution_count": 13,
   "metadata": {},
   "outputs": [
    {
     "name": "stdout",
     "output_type": "stream",
     "text": [
      "a,b,c,d\n",
      "HELLO\n",
      "world\n"
     ]
    }
   ],
   "source": [
    "#   문자열 삽입(join)\n",
    "\n",
    "x=  \",\".join('abcd')\n",
    "\n",
    "print(x)\n",
    "\n",
    "# 소문자를 대문자로 바꾸기(upper)   대문자를 소문자로 바꾸기(lower)\n",
    "\n",
    "a = \"hello\"\n",
    "b = \"WORLD\"\n",
    "\n",
    "print(a.upper())\n",
    "\n",
    "print(b.lower())"
   ]
  },
  {
   "cell_type": "code",
   "execution_count": 14,
   "metadata": {},
   "outputs": [
    {
     "name": "stdout",
     "output_type": "stream",
     "text": [
      "Your leg is too short\n",
      "['Life', 'is', 'too', 'short']\n",
      "['a', 'b', 'c', 'd']\n"
     ]
    },
    {
     "data": {
      "text/plain": [
       "list"
      ]
     },
     "execution_count": 14,
     "metadata": {},
     "output_type": "execute_result"
    }
   ],
   "source": [
    "# 문자열 바꾸기(replace)\n",
    "\n",
    "a = \"Life is too short\"\n",
    "a2= a.replace(\"Life\", \"Your leg\")\n",
    "\n",
    "print(a2)\n",
    "\n",
    "# 문자열 나누기(split)\n",
    "\n",
    "b = \"Life-is-too-short\"\n",
    "b2 = b.split(\"-\")\n",
    "\n",
    "print(b2)\n",
    "\n",
    "c = \"a:b:c:d\"\n",
    "c2 = c.split(':')\n",
    "\n",
    "print(c2)\n",
    "type(c2)\n"
   ]
  },
  {
   "attachments": {
    "image-5.png": {
     "image/png": "[encoded data removed]"
    }
   },
   "cell_type": "markdown",
   "metadata": {},
   "source": [
    "## 6. Data Type : List\n",
    "\n",
    "### - 순서가 있는 수정가능한 원소의 집합 (수정, 삭제, 추가가 가능)\n",
    "\n",
    "### - List 는 [ ] 대괄호로 작성되어지며, 내부 원소는 , 로 구분\n",
    "\n",
    "### - Index 는 0 부터 시작하며 마지막 원소는 n-1로 접근\n",
    "\n",
    "![image-5.png](attachment:image-5.png)"
   ]
  },
  {
   "cell_type": "code",
   "execution_count": 15,
   "metadata": {},
   "outputs": [],
   "source": [
    "a = [10, 20, 30, 40, 50]"
   ]
  },
  {
   "cell_type": "code",
   "execution_count": 16,
   "metadata": {
    "scrolled": true
   },
   "outputs": [
    {
     "name": "stdout",
     "output_type": "stream",
     "text": [
      "a[0] =  10   a[1] =  20   a[4] =  50\n",
      "\n",
      "\n",
      "a[-1] =  50   a[-2] =  40   a[-5] =  10\n"
     ]
    }
   ],
   "source": [
    "print(\"a[0] = \", a[0], \"  a[1] = \", a[1], \"  a[4] = \", a[4])\n",
    "print(\"\\n\")\n",
    "print(\"a[-1] = \", a[-1], \"  a[-2] = \", a[-2], \"  a[-5] = \", a[-5])"
   ]
  },
  {
   "attachments": {
    "image-2.png": {
     "image/png": "[encoded data removed]"
    }
   },
   "cell_type": "markdown",
   "metadata": {},
   "source": [
    "### 여러가지 Data 타입이 함께 list에 포함 가능\n",
    "\n",
    "![image-2.png](attachment:image-2.png)"
   ]
  },
  {
   "cell_type": "code",
   "execution_count": 17,
   "metadata": {},
   "outputs": [],
   "source": [
    "b = [10, 20, \"Hello\", \"World\", [True, 3.14]]"
   ]
  },
  {
   "cell_type": "code",
   "execution_count": 18,
   "metadata": {},
   "outputs": [
    {
     "name": "stdout",
     "output_type": "stream",
     "text": [
      "b[2] =  Hello   b[3] =  World   b[4] =  [True, 3.14]\n",
      "\n",
      "\n",
      "b[-1][-1] =  3.14   b[-1][-2] =  True\n"
     ]
    }
   ],
   "source": [
    "print(\"b[2] = \", b[2], \"  b[3] = \", b[3], \"  b[4] = \", b[4])\n",
    "print(\"\\n\")\n",
    "print(\"b[-1][-1] = \", b[-1][-1], \"  b[-1][-2] = \", b[-1][-2])"
   ]
  },
  {
   "cell_type": "markdown",
   "metadata": {},
   "source": [
    "### List 를 만든 후  data를 추가 (마지막 원소 뒤에 추가됨)"
   ]
  },
  {
   "cell_type": "code",
   "execution_count": 19,
   "metadata": {},
   "outputs": [],
   "source": [
    "c = []"
   ]
  },
  {
   "cell_type": "code",
   "execution_count": 20,
   "metadata": {
    "scrolled": true
   },
   "outputs": [
    {
     "name": "stdout",
     "output_type": "stream",
     "text": [
      "[100, 200, 'Hello']\n"
     ]
    }
   ],
   "source": [
    "c.append(100) ,c.append(200), c.append(\"Hello\")\n",
    "\n",
    "print(c)"
   ]
  },
  {
   "cell_type": "code",
   "execution_count": 21,
   "metadata": {},
   "outputs": [
    {
     "name": "stdout",
     "output_type": "stream",
     "text": [
      "[100, 200, 300, 'Hello']\n"
     ]
    }
   ],
   "source": [
    "c.insert(2,300)    # index 2 에 300 이라는 원소를 삽입\n",
    "\n",
    "print(c)"
   ]
  },
  {
   "cell_type": "markdown",
   "metadata": {},
   "source": [
    "### List 에서 원소를 제거하는 방법"
   ]
  },
  {
   "cell_type": "code",
   "execution_count": 22,
   "metadata": {},
   "outputs": [
    {
     "name": "stdout",
     "output_type": "stream",
     "text": [
      "[100, 300, 'Hello']\n"
     ]
    }
   ],
   "source": [
    "del c[1]      # index 1 의 원소를 제거\n",
    "\n",
    "print(c)"
   ]
  },
  {
   "cell_type": "code",
   "execution_count": 23,
   "metadata": {},
   "outputs": [
    {
     "name": "stdout",
     "output_type": "stream",
     "text": [
      "[300, 'Hello']\n"
     ]
    }
   ],
   "source": [
    "c.remove(100)    # 리스트 내에서 100 이라는 원소를 제거\n",
    "\n",
    "print(c)"
   ]
  },
  {
   "attachments": {
    "image.png": {
     "image/png": "[encoded data removed]"
    }
   },
   "cell_type": "markdown",
   "metadata": {},
   "source": [
    "### List 에서 구간 선택하기\n",
    "\n",
    "![image.png](attachment:image.png)"
   ]
  },
  {
   "cell_type": "code",
   "execution_count": 24,
   "metadata": {},
   "outputs": [],
   "source": [
    "a = [10, 20, 30, 40, 50]"
   ]
  },
  {
   "cell_type": "code",
   "execution_count": 25,
   "metadata": {},
   "outputs": [
    {
     "name": "stdout",
     "output_type": "stream",
     "text": [
      "a[0:2] =  [10, 20]   a[1:] =  [20, 30, 40, 50]\n",
      "\n",
      "\n",
      "a[:3] =  [10, 20, 30]   a[:-2] =  [10, 20, 30]\n",
      "\n",
      "\n",
      "a[:] =  [10, 20, 30, 40, 50]\n"
     ]
    }
   ],
   "source": [
    "print(\"a[0:2] = \", a[0:2], \"  a[1:] = \", a[1:])\n",
    "print(\"\\n\")\n",
    "print(\"a[:3] = \", a[:3], \"  a[:-2] = \", a[:-2])\n",
    "print(\"\\n\")\n",
    "print(\"a[:] = \", a[:])"
   ]
  },
  {
   "cell_type": "markdown",
   "metadata": {},
   "source": [
    "### List 끼리 merge 하기"
   ]
  },
  {
   "cell_type": "code",
   "execution_count": 26,
   "metadata": {},
   "outputs": [],
   "source": [
    "m = [2, 4, 6]\n",
    "\n",
    "n = [3, 5, 7]\n",
    "\n",
    "k = m + n"
   ]
  },
  {
   "cell_type": "code",
   "execution_count": 27,
   "metadata": {},
   "outputs": [
    {
     "name": "stdout",
     "output_type": "stream",
     "text": [
      "[2, 4, 6, 3, 5, 7]\n"
     ]
    }
   ],
   "source": [
    "print(k)"
   ]
  },
  {
   "cell_type": "markdown",
   "metadata": {},
   "source": [
    "### List 를 반복하는 경우"
   ]
  },
  {
   "cell_type": "code",
   "execution_count": 28,
   "metadata": {},
   "outputs": [
    {
     "name": "stdout",
     "output_type": "stream",
     "text": [
      "[2, 4, 6, 2, 4, 6, 2, 4, 6]\n"
     ]
    }
   ],
   "source": [
    "m3 = m*3\n",
    "\n",
    "\n",
    "print(m3)"
   ]
  },
  {
   "cell_type": "markdown",
   "metadata": {},
   "source": [
    "### List – 원소 수정 & 리스트 길이 구하기"
   ]
  },
  {
   "cell_type": "code",
   "execution_count": 29,
   "metadata": {},
   "outputs": [
    {
     "name": "stdout",
     "output_type": "stream",
     "text": [
      "수정 전 리스트 : [10, 20, 30, 40, 50]\n"
     ]
    }
   ],
   "source": [
    "a = [10, 20, 30, 40, 50]\n",
    "\n",
    "print(\"수정 전 리스트 :\", a)"
   ]
  },
  {
   "cell_type": "code",
   "execution_count": 30,
   "metadata": {},
   "outputs": [
    {
     "name": "stdout",
     "output_type": "stream",
     "text": [
      "수정 후 리스트 : [10, 20, 700, 40, 50]\n"
     ]
    }
   ],
   "source": [
    "a[2] = 700     # 30을 700으로 수정\n",
    "\n",
    "print(\"수정 후 리스트 :\", a)"
   ]
  },
  {
   "cell_type": "code",
   "execution_count": 31,
   "metadata": {},
   "outputs": [
    {
     "name": "stdout",
     "output_type": "stream",
     "text": [
      "5\n"
     ]
    }
   ],
   "source": [
    "print(len(a))    # List 의 크기를 반환"
   ]
  },
  {
   "cell_type": "markdown",
   "metadata": {},
   "source": [
    "### List – Sort() 함수\n",
    "\n",
    "#### - 숫자열과 문자열이 섞여 있는 경우에는 에러가 발생"
   ]
  },
  {
   "cell_type": "code",
   "execution_count": 32,
   "metadata": {},
   "outputs": [
    {
     "name": "stdout",
     "output_type": "stream",
     "text": [
      "[10, 20, 30, 40, 50]\n",
      "\n",
      "\n",
      "['a', 'c', 'f', 'm', 'z']\n"
     ]
    }
   ],
   "source": [
    "d = [50, 40, 20, 30, 10]    # 모두 숫자열인 경우\n",
    "\n",
    "d2 = [\"z\", \"c\", \"a\", \"f\", \"m\"]     # 모두 문자열인 경우\n",
    "\n",
    "d.sort(), d2.sort()\n",
    "\n",
    "print(d)\n",
    "print(\"\\n\")\n",
    "print(d2)"
   ]
  },
  {
   "cell_type": "code",
   "execution_count": 33,
   "metadata": {},
   "outputs": [
    {
     "ename": "TypeError",
     "evalue": "'<' not supported between instances of 'str' and 'int'",
     "output_type": "error",
     "traceback": [
      "\u001b[1;31m---------------------------------------------------------------------------\u001b[0m",
      "\u001b[1;31mTypeError\u001b[0m                                 Traceback (most recent call last)",
      "\u001b[1;32m<ipython-input-33-99bae31ff2f6>\u001b[0m in \u001b[0;36m<module>\u001b[1;34m\u001b[0m\n\u001b[0;32m      3\u001b[0m \u001b[0md3\u001b[0m \u001b[1;33m=\u001b[0m \u001b[1;33m[\u001b[0m\u001b[1;36m50\u001b[0m\u001b[1;33m,\u001b[0m \u001b[1;36m40\u001b[0m\u001b[1;33m,\u001b[0m \u001b[1;36m20\u001b[0m\u001b[1;33m,\u001b[0m \u001b[1;36m30\u001b[0m\u001b[1;33m,\u001b[0m \u001b[1;36m10\u001b[0m\u001b[1;33m,\u001b[0m \u001b[1;34m\"z\"\u001b[0m\u001b[1;33m,\u001b[0m \u001b[1;34m\"c\"\u001b[0m\u001b[1;33m,\u001b[0m \u001b[1;34m\"a\"\u001b[0m\u001b[1;33m]\u001b[0m\u001b[1;33m\u001b[0m\u001b[1;33m\u001b[0m\u001b[0m\n\u001b[0;32m      4\u001b[0m \u001b[1;33m\u001b[0m\u001b[0m\n\u001b[1;32m----> 5\u001b[1;33m \u001b[0md3\u001b[0m\u001b[1;33m.\u001b[0m\u001b[0msort\u001b[0m\u001b[1;33m(\u001b[0m\u001b[1;33m)\u001b[0m\u001b[1;33m\u001b[0m\u001b[1;33m\u001b[0m\u001b[0m\n\u001b[0m\u001b[0;32m      6\u001b[0m \u001b[1;33m\u001b[0m\u001b[0m\n\u001b[0;32m      7\u001b[0m \u001b[0mprint\u001b[0m\u001b[1;33m(\u001b[0m\u001b[0md3\u001b[0m\u001b[1;33m)\u001b[0m\u001b[1;33m\u001b[0m\u001b[1;33m\u001b[0m\u001b[0m\n",
      "\u001b[1;31mTypeError\u001b[0m: '<' not supported between instances of 'str' and 'int'"
     ]
    }
   ],
   "source": [
    "# 하나의 리스트 안에 숫자와 문자가 섞여 있는 경우 - 에러가 발생\n",
    "\n",
    "d3 = [50, 40, 20, 30, 10, \"z\", \"c\", \"a\"]\n",
    "\n",
    "d3.sort()\n",
    "\n",
    "print(d3)"
   ]
  },
  {
   "cell_type": "markdown",
   "metadata": {},
   "source": [
    "## 7. Data Type : Tuple\n",
    "\n",
    "### - Tuple은 “( )”으로  정의\n",
    "### - 일단 정의되면, Tuple은 내용 수정, 삭제가 불가\n",
    "### - Indexing 은 [ ]을 사용\n"
   ]
  },
  {
   "cell_type": "code",
   "execution_count": 34,
   "metadata": {},
   "outputs": [
    {
     "name": "stdout",
     "output_type": "stream",
     "text": [
      "() (1,) (1, 2, 3) (1, 2, 3) ('a', 'b', ('ab', 'cd'))\n"
     ]
    }
   ],
   "source": [
    "a1 = ( )\n",
    "a2 = (1, )        # 1개의 원소만을 가질 때는 원소 뒤에 콤마(,)를 반드시 붙여야 \n",
    "a3 = (1,  2,  3)\n",
    "a4 = 1,  2,  3       # 원소가 복수개일 경우, 괄호 생략 가능 (비추천) \n",
    "a5 = ('a', 'b', ('ab', 'cd'))\n",
    "\n",
    "print(a1, a2,  a3,  a4, a5)"
   ]
  },
  {
   "cell_type": "code",
   "execution_count": 35,
   "metadata": {},
   "outputs": [
    {
     "ename": "TypeError",
     "evalue": "'tuple' object doesn't support item deletion",
     "output_type": "error",
     "traceback": [
      "\u001b[1;31m---------------------------------------------------------------------------\u001b[0m",
      "\u001b[1;31mTypeError\u001b[0m                                 Traceback (most recent call last)",
      "\u001b[1;32m<ipython-input-35-e50ba7680470>\u001b[0m in \u001b[0;36m<module>\u001b[1;34m\u001b[0m\n\u001b[0;32m      1\u001b[0m \u001b[0mb1\u001b[0m \u001b[1;33m=\u001b[0m \u001b[1;33m(\u001b[0m\u001b[1;36m1\u001b[0m\u001b[1;33m,\u001b[0m \u001b[1;36m2\u001b[0m\u001b[1;33m,\u001b[0m \u001b[1;34m'a'\u001b[0m\u001b[1;33m,\u001b[0m \u001b[1;34m'b'\u001b[0m\u001b[1;33m)\u001b[0m\u001b[1;33m\u001b[0m\u001b[1;33m\u001b[0m\u001b[0m\n\u001b[0;32m      2\u001b[0m \u001b[1;33m\u001b[0m\u001b[0m\n\u001b[1;32m----> 3\u001b[1;33m \u001b[1;32mdel\u001b[0m \u001b[0mb1\u001b[0m\u001b[1;33m[\u001b[0m\u001b[1;36m0\u001b[0m\u001b[1;33m]\u001b[0m      \u001b[1;31m# Tuple 원소값을 삭제하려 한다면 에러가 발생\u001b[0m\u001b[1;33m\u001b[0m\u001b[1;33m\u001b[0m\u001b[0m\n\u001b[0m",
      "\u001b[1;31mTypeError\u001b[0m: 'tuple' object doesn't support item deletion"
     ]
    }
   ],
   "source": [
    "b1 = (1, 2, 'a', 'b')\n",
    "\n",
    "del b1[0]      # Tuple 원소값을 삭제하려 한다면 에러가 발생"
   ]
  },
  {
   "cell_type": "code",
   "execution_count": 36,
   "metadata": {},
   "outputs": [
    {
     "ename": "TypeError",
     "evalue": "'tuple' object does not support item assignment",
     "output_type": "error",
     "traceback": [
      "\u001b[1;31m---------------------------------------------------------------------------\u001b[0m",
      "\u001b[1;31mTypeError\u001b[0m                                 Traceback (most recent call last)",
      "\u001b[1;32m<ipython-input-36-efcbcb1718e1>\u001b[0m in \u001b[0;36m<module>\u001b[1;34m\u001b[0m\n\u001b[0;32m      1\u001b[0m \u001b[0mb1\u001b[0m \u001b[1;33m=\u001b[0m \u001b[1;33m(\u001b[0m\u001b[1;36m1\u001b[0m\u001b[1;33m,\u001b[0m \u001b[1;36m2\u001b[0m\u001b[1;33m,\u001b[0m \u001b[1;34m'a'\u001b[0m\u001b[1;33m,\u001b[0m \u001b[1;34m'b'\u001b[0m\u001b[1;33m)\u001b[0m\u001b[1;33m\u001b[0m\u001b[1;33m\u001b[0m\u001b[0m\n\u001b[0;32m      2\u001b[0m \u001b[1;33m\u001b[0m\u001b[0m\n\u001b[1;32m----> 3\u001b[1;33m \u001b[0mb1\u001b[0m\u001b[1;33m[\u001b[0m\u001b[1;36m0\u001b[0m\u001b[1;33m]\u001b[0m \u001b[1;33m=\u001b[0m \u001b[1;34m'c'\u001b[0m     \u001b[1;31m# Tuple 원소값을 수정하려 한다면 에러가 발생\u001b[0m\u001b[1;33m\u001b[0m\u001b[1;33m\u001b[0m\u001b[0m\n\u001b[0m",
      "\u001b[1;31mTypeError\u001b[0m: 'tuple' object does not support item assignment"
     ]
    }
   ],
   "source": [
    "b1 = (1, 2, 'a', 'b')\n",
    "\n",
    "b1[0] = 'c'     # Tuple 원소값을 수정하려 한다면 에러가 발생"
   ]
  },
  {
   "cell_type": "markdown",
   "metadata": {},
   "source": [
    "## 8.Data Type : Dictionary\n",
    "\n",
    "### - Dictionary는 Key와 Value를 한 쌍으로 갖는 자료형 이며, “ { } “ 로 정의 \n",
    "### - Indexing 대신 Key 를 사용하여 Value 값에 접근 (e.g. Dictionary이름[Key] )\n",
    "### - 기본 구조: { Key1:Value1,  Key2:Value2,  Key3:Value3, .......}\n",
    "### - 중복되는 Key 값을 설정하면 하나를 제외한 나머지 것들이 모두 무시됨\n",
    "### - Key에 List type은 쓸 수 없음\n"
   ]
  },
  {
   "cell_type": "markdown",
   "metadata": {},
   "source": [
    "\n",
    "### Dictionary 자료형 만들기"
   ]
  },
  {
   "cell_type": "code",
   "execution_count": 37,
   "metadata": {},
   "outputs": [
    {
     "name": "stdout",
     "output_type": "stream",
     "text": [
      "{'name': 'john', 'birth': '1212', 'phone': '01012345678'} {1: 'Hello'} {'a': [1, 2, 3]} {'b': (5, 6, 7)}\n"
     ]
    }
   ],
   "source": [
    "dic = {'name':'john',  'birth': '1212',   'phone':'01012345678' }   #  문자열에는 '' 와 \"\" 사용 가능 \n",
    "\n",
    "a = {1: \"Hello\"}    # Key로 정수 값을 사용한 예\n",
    "\n",
    "a1 = { 'a': [1,2,3] }   # Value에 리스트도 사용 가능\n",
    "\n",
    "a2 = { 'b': (5,6,7) }   # Value에 Tuple도 사용 가능\n",
    "\n",
    "print(dic, a, a1, a2)"
   ]
  },
  {
   "cell_type": "markdown",
   "metadata": {},
   "source": [
    "### Dictionary  사용하는 방법"
   ]
  },
  {
   "cell_type": "code",
   "execution_count": 39,
   "metadata": {},
   "outputs": [
    {
     "name": "stdout",
     "output_type": "stream",
     "text": [
      "Luke\n",
      "Luke\n",
      "Key가 없네요\n"
     ]
    }
   ],
   "source": [
    "dic = { 1: 'a', 2: 'b', 'name': 'Luke', 3: [1, 2, 3] }\n",
    "\n",
    "# dic['nokey']는 Key 오류를 발생시키고 dic.get('nokey')는 None을 return\n",
    "\n",
    "print ( dic['name']  )\n",
    "\n",
    "print (  dic.get('name') )\n",
    "\n",
    "c = dic.get('nokey', 'Key가 없네요')  # get(찾고자 하는 key, default value)\n",
    "\n",
    "print(c)"
   ]
  },
  {
   "cell_type": "code",
   "execution_count": 40,
   "metadata": {},
   "outputs": [
    {
     "data": {
      "text/plain": [
       "<function dict.keys>"
      ]
     },
     "execution_count": 40,
     "metadata": {},
     "output_type": "execute_result"
    }
   ],
   "source": [
    "dic.keys        #  Dictionary 내 key 값을 알고자 할 때"
   ]
  },
  {
   "cell_type": "code",
   "execution_count": 41,
   "metadata": {},
   "outputs": [
    {
     "data": {
      "text/plain": [
       "[1, 2, 'name', 3]"
      ]
     },
     "execution_count": 41,
     "metadata": {},
     "output_type": "execute_result"
    }
   ],
   "source": [
    "list(dic.keys())   #  Dictionary  key 값을 리스트로 변환하기"
   ]
  },
  {
   "cell_type": "code",
   "execution_count": 42,
   "metadata": {},
   "outputs": [
    {
     "data": {
      "text/plain": [
       "dict_values(['a', 'b', 'Luke', [1, 2, 3]])"
      ]
     },
     "execution_count": 42,
     "metadata": {},
     "output_type": "execute_result"
    }
   ],
   "source": [
    "dic.values()          #  Dictionary 내 value 값을 알고자 할 때"
   ]
  },
  {
   "cell_type": "code",
   "execution_count": 43,
   "metadata": {},
   "outputs": [
    {
     "data": {
      "text/plain": [
       "dict_items([(1, 'a'), (2, 'b'), ('name', 'Luke'), (3, [1, 2, 3])])"
      ]
     },
     "execution_count": 43,
     "metadata": {},
     "output_type": "execute_result"
    }
   ],
   "source": [
    "dic.items()      # Key, Value 의 값을 동시에 알고자 할 때 -Tuple 로 반환"
   ]
  },
  {
   "cell_type": "code",
   "execution_count": 44,
   "metadata": {},
   "outputs": [
    {
     "data": {
      "text/plain": [
       "True"
      ]
     },
     "execution_count": 44,
     "metadata": {},
     "output_type": "execute_result"
    }
   ],
   "source": [
    "# 해당 Key가 Dictionary  안에 있는지 조사하기(in)\n",
    "\n",
    "'name' in dic"
   ]
  },
  {
   "cell_type": "code",
   "execution_count": 45,
   "metadata": {},
   "outputs": [
    {
     "data": {
      "text/plain": [
       "'email'"
      ]
     },
     "execution_count": 45,
     "metadata": {},
     "output_type": "execute_result"
    }
   ],
   "source": [
    "'email' "
   ]
  },
  {
   "attachments": {
    "image-3.png": {
     "image/png": "[encoded data removed]"
    }
   },
   "cell_type": "markdown",
   "metadata": {},
   "source": [
    "## 9. If ~ Else 문\n",
    "\n",
    "### - If 와 else를 사용한 조건문의 기본 구조\n",
    "\n",
    "![image-3.png](attachment:image-3.png)"
   ]
  },
  {
   "attachments": {
    "image-4.png": {
     "image/png": "[encoded data removed]"
    },
    "image-5.png": {
     "image/png": "[encoded data removed]"
    }
   },
   "cell_type": "markdown",
   "metadata": {},
   "source": [
    "### - (주의 !!) 모든 문장에 들여쓰기(indentation)를 해주어야 함\n",
    "### - 공백(Space) 4칸 사용이 원칙 (Jupyter Notebook에서 자동으로 해 줌)\n",
    "### - 조건문 다음에 Colon(:)을 반드시 해야 함\n",
    "![image-4.png](attachment:image-4.png)\n",
    "\n",
    "![image-5.png](attachment:image-5.png)\n"
   ]
  },
  {
   "cell_type": "markdown",
   "metadata": {},
   "source": [
    "### (Case1 )"
   ]
  },
  {
   "cell_type": "code",
   "execution_count": 46,
   "metadata": {},
   "outputs": [
    {
     "name": "stdout",
     "output_type": "stream",
     "text": [
      "별다방에서 커피와 케익\n"
     ]
    }
   ],
   "source": [
    "money = 2000\n",
    "card = True\n",
    "\n",
    "if money >= 3000 or card:  \n",
    "    print(\"별다방에서 커피와 케익\")\n",
    "else:  \n",
    "    print(\"커피만 마시는 걸로\")\n"
   ]
  },
  {
   "cell_type": "markdown",
   "metadata": {},
   "source": [
    "### (Case 2)"
   ]
  },
  {
   "cell_type": "code",
   "execution_count": 47,
   "metadata": {},
   "outputs": [
    {
     "name": "stdout",
     "output_type": "stream",
     "text": [
      "카드를 사용하고......\n"
     ]
    }
   ],
   "source": [
    "pocket = ['paper', 'cellphone']\n",
    "card = True\n",
    "\n",
    "if 'money' in pocket: \n",
    "    print(\"현금을 사용하고.....\")\n",
    "elif card: \n",
    "    print(\"카드를 사용하고......\")\n",
    "else: \n",
    "    print(\"어떻게 할까???\")\n",
    "    "
   ]
  },
  {
   "cell_type": "markdown",
   "metadata": {},
   "source": [
    "### pass 문 & If 문 한 줄로 작성하기 "
   ]
  },
  {
   "cell_type": "code",
   "execution_count": 48,
   "metadata": {},
   "outputs": [],
   "source": [
    "pocket = ['paper', 'money',  'cellphone',  'card']\n",
    "\n",
    "if 'money' in pocket:   \n",
    "    pass       #아무런 일도 하지 않도록 설정하고 싶을 때\n",
    "else: \n",
    "    print(\"카드를 사용......\")\n",
    "    "
   ]
  },
  {
   "cell_type": "code",
   "execution_count": 49,
   "metadata": {},
   "outputs": [
    {
     "name": "stdout",
     "output_type": "stream",
     "text": [
      "success\n"
     ]
    }
   ],
   "source": [
    "# if문을 한 줄로 작성하기\n",
    "\n",
    "score = 90\n",
    "\n",
    "# if score >= 60:\n",
    "#     report = \"success\"\n",
    "# else:\n",
    "#     report = \"failure\"\n",
    "    \n",
    "\n",
    "report = \"success\" if score >= 60 else \"faliure\"    # 위 문장들을 한 줄로 \n",
    "\n",
    "print (report)\n"
   ]
  },
  {
   "attachments": {
    "image-2.png": {
     "image/png": "[encoded data removed]"
    }
   },
   "cell_type": "markdown",
   "metadata": {},
   "source": [
    "## 10. While 문 - 기본 구조\n",
    "\n",
    "![image-2.png](attachment:image-2.png)\n"
   ]
  },
  {
   "cell_type": "code",
   "execution_count": 50,
   "metadata": {},
   "outputs": [
    {
     "name": "stdout",
     "output_type": "stream",
     "text": [
      "나무를 1 번 찍었습니다.\n",
      "나무를 2 번 찍었습니다.\n",
      "나무를 3 번 찍었습니다.\n",
      "나무를 4 번 찍었습니다.\n",
      "나무를 5 번 찍었습니다.\n",
      "나무를 6 번 찍었습니다.\n",
      "나무를 7 번 찍었습니다.\n",
      "나무를 8 번 찍었습니다.\n",
      "나무를 9 번 찍었습니다.\n",
      "나무를 10 번 찍었습니다.\n",
      "나무가 넘어 집니다.\n"
     ]
    }
   ],
   "source": [
    "treeCut = 0\n",
    "\n",
    "while treeCut < 10:\n",
    "    treeCut = treeCut +1\n",
    "    print(\"나무를 {} 번 찍었습니다.\" .format(treeCut))     # format 은 데이터 출력 함수\n",
    "    if treeCut == 10:\n",
    "        print(\"나무가 넘어 집니다.\")\n"
   ]
  },
  {
   "cell_type": "markdown",
   "metadata": {},
   "source": [
    "### break 문 사용하기"
   ]
  },
  {
   "cell_type": "code",
   "execution_count": 51,
   "metadata": {},
   "outputs": [
    {
     "name": "stdout",
     "output_type": "stream",
     "text": [
      "돈을 넣어 주세요: 400\n",
      "money=  400\n",
      "돈을 돌려 줍니다.\n",
      "돈을 넣어 주세요: 0\n",
      "money=  0\n",
      "돈을 돌려 줍니다.\n",
      "돈을 넣어 주세요: 500\n",
      "money=  500\n",
      "커피를 줍니다.\n",
      "커피 Sold Out........\n"
     ]
    }
   ],
   "source": [
    "###########################################\n",
    "\n",
    "coffee = 10\n",
    "\n",
    "while True:\n",
    "    money = int(input(\"돈을 넣어 주세요: \"))\n",
    "    money = int(money)\n",
    "    print(\"money= \",money)\n",
    "    if money == 500:\n",
    "        print(\"커피를 줍니다.\")\n",
    "        coffee = coffee -10\n",
    "    elif money > 500:\n",
    "        print(\"거스름돈 {} 를 출력\" .format(money -500))\n",
    "        coffee = coffee -1\n",
    "    else:\n",
    "        print(\"돈을 돌려 줍니다.\")\n",
    "\n",
    "    if coffee == 0:\n",
    "        print(\"커피 Sold Out........\")\n",
    "        break         # while 문을 빠져 나갑니다.\n",
    "        "
   ]
  },
  {
   "cell_type": "markdown",
   "metadata": {},
   "source": [
    "### continue  문 사용하기"
   ]
  },
  {
   "cell_type": "code",
   "execution_count": 52,
   "metadata": {},
   "outputs": [
    {
     "name": "stdout",
     "output_type": "stream",
     "text": [
      "1\n",
      "3\n",
      "5\n",
      "7\n",
      "9\n"
     ]
    }
   ],
   "source": [
    "# 10보다 작은 홀수 출력 하기\n",
    "\n",
    "a = 0\n",
    "\n",
    "while a < 10:\n",
    "    a = a + 1\n",
    "    if a % 2 == 0:      # 나머지를 반환하는 % 연산자\n",
    "        continue       # while문의 맨 처음(조건문: a<10)으로 돌아가게 하는 명령어\n",
    "    else:\n",
    "        print(a)\n"
   ]
  },
  {
   "attachments": {
    "image-3.png": {
     "image/png": "[encoded data removed]"
    }
   },
   "cell_type": "markdown",
   "metadata": {},
   "source": [
    "## 11. For 문 - 기본 구조\n",
    "\n",
    "### - For 문의 전형적인 구조\n",
    "\n",
    "![image-3.png](attachment:image-3.png)\n",
    "\n"
   ]
  },
  {
   "cell_type": "code",
   "execution_count": 53,
   "metadata": {},
   "outputs": [
    {
     "name": "stdout",
     "output_type": "stream",
     "text": [
      "one\n",
      "two\n",
      "three\n"
     ]
    }
   ],
   "source": [
    "test_list = ['one', 'two', 'three'] \n",
    "\n",
    "for i in test_list: \n",
    "    print(i)"
   ]
  },
  {
   "cell_type": "markdown",
   "metadata": {},
   "source": [
    "### For 문 - Example"
   ]
  },
  {
   "cell_type": "code",
   "execution_count": 54,
   "metadata": {},
   "outputs": [
    {
     "name": "stdout",
     "output_type": "stream",
     "text": [
      " 1 번 학생은 합격입니다.\n",
      " 2 번 학생은 불합격입니다.\n",
      " 3 번 학생은 합격입니다.\n",
      " 4 번 학생은 불합격입니다.\n",
      " 5 번 학생은 합격입니다.\n"
     ]
    }
   ],
   "source": [
    "marks = [93, 58, 76 , 67, 81]\n",
    "\n",
    "number = 0 \n",
    "\n",
    "for mark in marks: \n",
    "    number = number +1 \n",
    "    if mark >= 70: \n",
    "        print(\" {} 번 학생은 합격입니다.\" .format(number))\n",
    "    else: \n",
    "        print(\" {} 번 학생은 불합격입니다.\" .format(number))\n"
   ]
  },
  {
   "cell_type": "markdown",
   "metadata": {},
   "source": [
    "### For 문 – Range 함수\n",
    "\n",
    "### - range 함수: 숫자 리스트를 자동으로 만들어 주는 함수 (중요!!!!)\n",
    "### - range(시작 숫자, 끝 숫자) 형태 : (주의) 끝 숫자는 포함되지 않음\n"
   ]
  },
  {
   "cell_type": "code",
   "execution_count": 55,
   "metadata": {},
   "outputs": [
    {
     "name": "stdout",
     "output_type": "stream",
     "text": [
      "2 4 6 8 10 12 14 16 18  \n",
      "3 6 9 12 15 18 21 24 27  \n",
      "4 8 12 16 20 24 28 32 36  \n",
      "5 10 15 20 25 30 35 40 45  \n",
      "6 12 18 24 30 36 42 48 54  \n",
      "7 14 21 28 35 42 49 56 63  \n",
      "8 16 24 32 40 48 56 64 72  \n",
      "9 18 27 36 45 54 63 72 81  \n"
     ]
    }
   ],
   "source": [
    "# 구구단 출력하기\n",
    "\n",
    "for i in range(2,10):             # ①번 for문\n",
    "    for j in range(1, 10):        # ②번 for문\n",
    "        print(i*j, end=\" \")        # end=\" \" : 한 줄에 계속해서 출력하기 위해서\n",
    "    print(' ')                     # 다음 줄부터 출력하게 해주는 문장\n"
   ]
  },
  {
   "cell_type": "code",
   "execution_count": 56,
   "metadata": {},
   "outputs": [
    {
     "name": "stdout",
     "output_type": "stream",
     "text": [
      "10.0\n"
     ]
    }
   ],
   "source": [
    "###################################\n",
    "from decimal import Decimal\n",
    "\n",
    "result = Decimal('0.0')\n",
    "\n",
    "for i in range(0,100) :\n",
    "    result = result + Decimal('0.1')\n",
    "    \n",
    "print(result)"
   ]
  },
  {
   "cell_type": "markdown",
   "metadata": {},
   "source": [
    "### For 문 – List comprehension "
   ]
  },
  {
   "cell_type": "code",
   "execution_count": 57,
   "metadata": {},
   "outputs": [
    {
     "name": "stdout",
     "output_type": "stream",
     "text": [
      "[3, 6, 9, 12, 15, 18, 21, 24, 27]\n"
     ]
    }
   ],
   "source": [
    "a = [1,2,3,4,5,6,7,8,9]\n",
    "result = [ ]\n",
    "\n",
    "for num in a:\n",
    "    result.append(num*3)\n",
    "\n",
    "print(result)"
   ]
  },
  {
   "cell_type": "code",
   "execution_count": 58,
   "metadata": {},
   "outputs": [
    {
     "name": "stdout",
     "output_type": "stream",
     "text": [
      "[3, 6, 9, 12, 15, 18, 21, 24, 27]\n"
     ]
    }
   ],
   "source": [
    "a = [1,2,3,4,5,6,7,8,9]\n",
    "result = [ ]\n",
    "\n",
    "result = [num * 3 for num in a]    # 위와 같은 결과의 logic 을 한 줄로 작성하기\n",
    "\n",
    "print(result)"
   ]
  },
  {
   "cell_type": "code",
   "execution_count": 60,
   "metadata": {
    "scrolled": true
   },
   "outputs": [
    {
     "name": "stdout",
     "output_type": "stream",
     "text": [
      "[6, 12, 18, 24]\n"
     ]
    }
   ],
   "source": [
    "a = [1,2,3,4,5,6,7,8,9]\n",
    "result = [ ]\n",
    "\n",
    "result = [num * 3 for num in a if num%2 == 0 ]     # 리스트내 짝수에 3을 곱하기\n",
    "\n",
    "print(result)"
   ]
  }
 ],
 "metadata": {
  "kernelspec": {
   "display_name": "Python 3",
   "language": "python",
   "name": "python3"
  },
  "language_info": {
   "codemirror_mode": {
    "name": "ipython",
    "version": 3
   },
   "file_extension": ".py",
   "mimetype": "text/x-python",
   "name": "python",
   "nbconvert_exporter": "python",
   "pygments_lexer": "ipython3",
   "version": "3.7.9"
  }
 },
 "nbformat": 4,
 "nbformat_minor": 4
}
