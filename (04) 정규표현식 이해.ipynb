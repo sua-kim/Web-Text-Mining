{
 "cells": [
  {
   "cell_type": "markdown",
   "metadata": {},
   "source": [
    "# 정규표현식(Regular Expression) 기초"
   ]
  },
  {
   "cell_type": "markdown",
   "metadata": {},
   "source": [
    "## 1.기본 package 불러오기 \n",
    "\n"
   ]
  },
  {
   "cell_type": "code",
   "execution_count": 1,
   "metadata": {},
   "outputs": [],
   "source": [
    "## 기본\n",
    "import numpy as np                      # numpy 패키지 가져오기\n",
    "import pandas as pd                     # pandas 패키지 가져오기\n",
    "import requests\n",
    "import re                              # 정규식 패키지 가져오기\n",
    "\n",
    "import warnings\n",
    "warnings.filterwarnings('ignore')"
   ]
  },
  {
   "cell_type": "markdown",
   "metadata": {},
   "source": [
    "## 파이썬에서 정규 표현식을 지원하는 re 모듈\n",
    "### ■ re.compile(\"원하는 정규표현식\" , [flags])\n",
    "         - \"원하는 정규표현식\"(pattern)을 컴파일하여 정규표현식 객체를 반환\n",
    "\n",
    "### ■ pattern 검색\n",
    "\n",
    "#### ① re.search(pattern , string [,flags]) : string 전체에 대해서 pattern 이 존재하는지 검색\n",
    "         /* 표현이 여러 개 탐색되었을 경우 <span style=\"color:red\"> 처음 탐색된 정보만 출력 </span> */\n",
    "\n",
    "#### ② re.match(pattern , string [,flags]) : string 시작 부분부터 pattern 이 존재하는지 검색\n",
    "       /* 문자열 내에서 특정 표현이 전부 매칭 되거나 맨앞에 있을 경우 에 탐색 */\n",
    "\n",
    "#### ③ re.findall(pattern , string [,flags])  : string 에서 pattern 과 매치되는 모든 경우를 찾아서 리스트로 반환\n",
    "\n",
    "### ■ pattern 수정\n",
    "\n",
    "#### ① re.sub(pattern , repl , string [,count]) \n",
    "    : string 에서 pattern 과 일치하는 부분에 대하여 repl 로 교체하여 결과 문자열을 반환(count 인자는, 최대 몆 개까지 치환할 것인가를 지정)\n",
    "#### ② re.split(pattern , string [,maxsplit=0]) \n",
    "    : pattern 을 구분자로 string 을 분리하여 리스트로 반환(maxsplit은 최대 몇 개까지 문자열을 split할지를 나타냄)"
   ]
  },
  {
   "cell_type": "markdown",
   "metadata": {},
   "source": [
    "## Part 1  - search & match & findall (1)"
   ]
  },
  {
   "cell_type": "code",
   "execution_count": 2,
   "metadata": {},
   "outputs": [],
   "source": [
    "p = re.compile('[a-z]+')   #  p는 소문자로 구성된 영단어를 검색하는 정규식 객체"
   ]
  },
  {
   "cell_type": "code",
   "execution_count": 3,
   "metadata": {},
   "outputs": [
    {
     "name": "stdout",
     "output_type": "stream",
     "text": [
      "<re.Match object; span=(0, 6), match='python'>\n"
     ]
    }
   ],
   "source": [
    "# 출력 메세지 중 span=(m,n) 의미 : index m에서 n번째 까지 매치됨을 의미 \n",
    "# (n번째는 처음부터 시작하여 n 번째 라는 의미, 처음은 1 부터 시작)\n",
    "\n",
    "m = p.search(\"python\")    # search method : string 전체에 대해서 pattern 이 존재하는지 검색 - 맨처음 검색 단어만 반환\n",
    "\n",
    "print(m)"
   ]
  },
  {
   "cell_type": "code",
   "execution_count": 4,
   "metadata": {},
   "outputs": [
    {
     "name": "stdout",
     "output_type": "stream",
     "text": [
      "<re.Match object; span=(1, 7), match='python'>\n"
     ]
    }
   ],
   "source": [
    "# string 전체에 대해서 pattern 이 존재하는지 검색\n",
    "\n",
    "m = p.search(\" python\")\n",
    "\n",
    "print(m)"
   ]
  },
  {
   "cell_type": "code",
   "execution_count": 5,
   "metadata": {},
   "outputs": [
    {
     "name": "stdout",
     "output_type": "stream",
     "text": [
      "<re.Match object; span=(1, 3), match='py'>\n"
     ]
    }
   ],
   "source": [
    "m = p.search(\" py thon\")   # 맨 처음 검색 단어만 반환\n",
    "\n",
    "print(m)"
   ]
  },
  {
   "cell_type": "code",
   "execution_count": 6,
   "metadata": {},
   "outputs": [
    {
     "name": "stdout",
     "output_type": "stream",
     "text": [
      "<re.Match object; span=(0, 6), match='python'>\n"
     ]
    }
   ],
   "source": [
    "# match method : 정확히 일치하는 것만 검색 - 특정 표현이 전부 매칭 되거나 맨앞에 있을 경우에만 반환\n",
    "\n",
    "m = p.match(\"python\")  \n",
    "\n",
    "print(m)"
   ]
  },
  {
   "cell_type": "code",
   "execution_count": 7,
   "metadata": {},
   "outputs": [
    {
     "name": "stdout",
     "output_type": "stream",
     "text": [
      "None\n"
     ]
    }
   ],
   "source": [
    "# match method : 정확히 일치하는 것만 검색 - 특정 표현이 전부 매칭 되거나 맨앞에 있을 경우에만 반환\n",
    "\n",
    "m = p.match(\" python\")    # blank 가 있는 경우 \n",
    "\n",
    "print(m)"
   ]
  },
  {
   "cell_type": "code",
   "execution_count": 8,
   "metadata": {},
   "outputs": [
    {
     "name": "stdout",
     "output_type": "stream",
     "text": [
      "None\n"
     ]
    }
   ],
   "source": [
    "# match method : 정확히 일치하는 것만 검색 - 특정 표현이 전부 매칭 되거나 맨앞에 있을 경우에만 반환\n",
    "\n",
    "m = p.match(\"7 python\")\n",
    "\n",
    "print(m)"
   ]
  },
  {
   "cell_type": "code",
   "execution_count": 9,
   "metadata": {},
   "outputs": [
    {
     "name": "stdout",
     "output_type": "stream",
     "text": [
      "<re.Match object; span=(0, 2), match='py'>\n"
     ]
    }
   ],
   "source": [
    "# match method : 정확히 일치하는 것만 검색 - 특정 표현이 전부 매칭 되거나 맨앞에 있을 경우에만 반환\n",
    "\n",
    "\n",
    "m = p.match(\"py thon\")\n",
    "\n",
    "print(m)"
   ]
  },
  {
   "cell_type": "code",
   "execution_count": 10,
   "metadata": {},
   "outputs": [
    {
     "name": "stdout",
     "output_type": "stream",
     "text": [
      "<re.Match object; span=(0, 5), match='Hello'>\n",
      "\n",
      "\n",
      "Hello\n"
     ]
    }
   ],
   "source": [
    "# 아래 reg는 Hello 문자열을 검색하는 정규식 객체\n",
    "\n",
    "reg = re.compile(\"Hello\")      \n",
    "\n",
    "text1 = \"Hello world! Hello Python!\"\n",
    "\n",
    "print(reg.search(text1))     # 검색 결과 반환\n",
    "\n",
    "print(\"\\n\")\n",
    "\n",
    "print(reg.search(text1).group())  # 텍스트 상에 여러개가 있을 때 맨 앞에 발견된 하나만 가져와서 해당 단어를 반환"
   ]
  },
  {
   "cell_type": "code",
   "execution_count": 11,
   "metadata": {},
   "outputs": [
    {
     "name": "stdout",
     "output_type": "stream",
     "text": [
      "<re.Match object; span=(13, 18), match='Hello'>\n"
     ]
    }
   ],
   "source": [
    "# text1 = \"Hello world! Hello Python!\"\n",
    "# search를 통해 여러패턴을 찾아보고 싶다면 search 함수 parameter 중 pos parameter(시작 탐색 지점)을 조절하여 탐색\n",
    "\n",
    "print(reg.search(text1, pos=13))     #  검색 시작 위치를 13번째 부터 시작,  두번째 Hello 가 검색되어짐"
   ]
  },
  {
   "cell_type": "code",
   "execution_count": 12,
   "metadata": {},
   "outputs": [
    {
     "name": "stdout",
     "output_type": "stream",
     "text": [
      "(0, 5)\n"
     ]
    }
   ],
   "source": [
    "# text = \"Hello world! Hello Python!\"\n",
    "# span 함수를 사용하여 위치를 확인 가능\n",
    "# 결과는 (시작 위치, 끝 위치) 튜플을 반환 \n",
    "\n",
    "position = reg.search(text1).span()\n",
    "\n",
    "print(position)"
   ]
  },
  {
   "cell_type": "code",
   "execution_count": 13,
   "metadata": {},
   "outputs": [
    {
     "name": "stdout",
     "output_type": "stream",
     "text": [
      "['Hello', 'Hello']\n"
     ]
    }
   ],
   "source": [
    "# text1 = \"Hello world! Hello Python!\"\n",
    "# findall 함수: Text 내 매치되는 모든 문자열을 List 형식으로 반환\n",
    "\n",
    "print(reg.findall(text1))"
   ]
  },
  {
   "cell_type": "markdown",
   "metadata": {},
   "source": [
    "## Part 1 - search & match & findall (2)"
   ]
  },
  {
   "cell_type": "code",
   "execution_count": 14,
   "metadata": {},
   "outputs": [
    {
     "name": "stdout",
     "output_type": "stream",
     "text": [
      "YES! We have a match!\n"
     ]
    }
   ],
   "source": [
    "# 시작 단어 및 끝 단어로 검색 하기 \n",
    "\n",
    "text2 = \"The park in Spain\"\n",
    "\n",
    "x = re.search(\"^The.*Spain$\", text2)    # The 로 시작하고 Spain 으로 끝나는 문자열을 search, 두 단어 중간은 어떠한 단어도 OK !!\n",
    "\n",
    "if (x):\n",
    "  print(\"YES! We have a match!\")\n",
    "else:\n",
    "  print(\"No match\")"
   ]
  },
  {
   "cell_type": "code",
   "execution_count": 15,
   "metadata": {},
   "outputs": [
    {
     "name": "stdout",
     "output_type": "stream",
     "text": [
      "<re.Match object; span=(4, 8), match='park'>\n"
     ]
    }
   ],
   "source": [
    "# boolean 메소드 이용하여 결과 반환하기 \n",
    "\n",
    "x = (re.search(\"park\", text2))\n",
    "\n",
    "print(x)"
   ]
  },
  {
   "cell_type": "code",
   "execution_count": 16,
   "metadata": {},
   "outputs": [
    {
     "name": "stdout",
     "output_type": "stream",
     "text": [
      "Spain\n"
     ]
    }
   ],
   "source": [
    "# group() 메소드는 매치된 문자열을 반환함 \n",
    "\n",
    "x = re.search(r\"\\bS\\w+\", text2)\n",
    "\n",
    "print(x.group()) "
   ]
  },
  {
   "cell_type": "code",
   "execution_count": 17,
   "metadata": {},
   "outputs": [
    {
     "name": "stdout",
     "output_type": "stream",
     "text": [
      "031-234-3456\n"
     ]
    }
   ],
   "source": [
    "# 문장에서 전화번호를 추출 (1) \n",
    "\n",
    "text3 = \"문의사항이 있으면 사무실 031-234-3456 이동전화 010-7700-9988 으로 연락주시기 바랍니다.\"\n",
    " \n",
    "tel = re.compile(r'\\d\\d\\d-\\d\\d\\d-\\d\\d\\d\\d')   # 전화 번호 추출을 위한  정규 표현식 객체를 만듬 \n",
    "\n",
    "search_tel = tel.search(text3)   # 대상 문자열을 search 메소드에 넘겨줌   \n",
    "\n",
    "phone = search_tel.group()   # 전화번호를 추출 \n",
    "\n",
    "print(phone)"
   ]
  },
  {
   "cell_type": "code",
   "execution_count": 18,
   "metadata": {},
   "outputs": [
    {
     "name": "stdout",
     "output_type": "stream",
     "text": [
      "031-234-3456\n",
      "010-7700-9988\n"
     ]
    }
   ],
   "source": [
    "# 문장에서 전화번호를 추출 (2)  \n",
    " \n",
    "tel = re.compile(r'\\d{2,3}-\\d{3,4}-\\d{4}')   # 전화 번호 추출을 위한  정규 표현식 객체를 만듬 \n",
    "\n",
    "search_num = tel.findall(text3)   # 대상 문자열을 findall 메소드에 넘겨줌   \n",
    "\n",
    "print(search_num[0]) \n",
    "print(search_num[1])  "
   ]
  },
  {
   "cell_type": "code",
   "execution_count": 19,
   "metadata": {},
   "outputs": [
    {
     "name": "stdout",
     "output_type": "stream",
     "text": [
      "['에러 1122', '에러 1033']\n"
     ]
    }
   ],
   "source": [
    "text4 = \"에러 1122 : Reference 오류 \\n 에러 1033: Argument 오류\"\n",
    "\n",
    "search_error = re.compile(\"에러\\s\\d+\")  # \"에러 번호\" 추출을 위한 정규식 객채를 만듬 \n",
    "\n",
    "mc = search_error.findall(text4)    # 대상 문자열에서 매치되는 모든 단어를 반환 \n",
    "\n",
    "print(mc)"
   ]
  },
  {
   "cell_type": "markdown",
   "metadata": {},
   "source": [
    "## Part 2 - sub & split"
   ]
  },
  {
   "cell_type": "code",
   "execution_count": 21,
   "metadata": {},
   "outputs": [
    {
     "name": "stdout",
     "output_type": "stream",
     "text": [
      "fruit box fruit tree\n"
     ]
    }
   ],
   "source": [
    "# 문자열에서 특정 단어를 수정하기 (1) \n",
    "\n",
    "text5 = \"apple box orange tree\"\n",
    "\n",
    "change_text = re.sub('apple|orange', 'fruit', text5)   # 문자열에 있는 apple 과 orange 를 fruit 로 수정\n",
    "\n",
    "print(change_text)     # 수정된 문자열을 출력 "
   ]
  },
  {
   "cell_type": "code",
   "execution_count": 22,
   "metadata": {},
   "outputs": [
    {
     "name": "stdout",
     "output_type": "stream",
     "text": [
      "number number apple box number orange tree number number\n"
     ]
    }
   ],
   "source": [
    "# 문자열에서 특정 단어를 수정하기 (2) \n",
    "\n",
    "text6 = \"1 3 apple box 5 orange tree 7 9\"\n",
    "\n",
    "\n",
    "change_char = re.sub('[0-9]+', 'number', text6)    # 숫자만 찾아서 number 라는 단어로 바꾸어 결과 문자열을 반환\n",
    "\n",
    "\n",
    "print(change_char)     # change_char 는 문자열 임 "
   ]
  },
  {
   "cell_type": "code",
   "execution_count": 23,
   "metadata": {},
   "outputs": [
    {
     "name": "stdout",
     "output_type": "stream",
     "text": [
      "10 30 apple box 50 orange tree 70 90\n"
     ]
    }
   ],
   "source": [
    "# 매개변수로 함수 이용하기 \n",
    "# 위 셀에서 text = \"1 3 apple box 5 orange tree 7 9\"\n",
    "\n",
    "def multiple10(m):          # 매개변수로 매치 객체를 받음\n",
    "    n = int(m.group())      # 매칭된 문자열을 가져와서 정수로 변환\n",
    "    return str(n * 10)\n",
    "\n",
    "\n",
    "change_char = re.sub('[0-9]+', multiple10, text6)    # 숫자만 찾아서 10을 곱해준 후 결과 문자열을 반환\n",
    "\n",
    "print(change_char)"
   ]
  },
  {
   "cell_type": "code",
   "execution_count": 25,
   "metadata": {},
   "outputs": [
    {
     "data": {
      "text/plain": [
       "'인공어 사투리 따위 자연어에 대하여 의식적으로 창조된 언어'"
      ]
     },
     "execution_count": 25,
     "metadata": {},
     "output_type": "execute_result"
    }
   ],
   "source": [
    "# 문자열에서 힌글만 추출하기 \n",
    "\n",
    "\n",
    "text7 = \"인공어(人工語): (사투리 따위 자연어(自然語)에 대(對)하여) 의식적(意識的)으로 창조(創造)된 언어(言語)\"\n",
    "\n",
    "reg = re.compile(\"[^가-힣 ]\")    # 한글이 아닌 문자만 매치하는 정규식 - '힣' 문자 뒤에 blank 가 있어야 단어 형식으로 출력 !!! \n",
    "\n",
    "reg.sub('', text7)     # 한글이 아닌 문자는 모두 제거한 후 결과 문자열을 반환"
   ]
  },
  {
   "cell_type": "code",
   "execution_count": 26,
   "metadata": {},
   "outputs": [
    {
     "name": "stdout",
     "output_type": "stream",
     "text": [
      "['hi!', 'world!', 'python!', '!!', '!?']\n"
     ]
    }
   ],
   "source": [
    "# split 메소드 사용법 - 결과 문자열을 반환 \n",
    "\n",
    "text8 = \"hi! hello world! hello python! hello!! hello!?\"   \n",
    "\n",
    "reg = re.compile(r\"\\s*hello\\s*\")    # 문자열에서 hello 를 찾는 정규식 \n",
    "\n",
    "print(reg.split(text8))   # hello 를 기준으로 문자열을 나누어 결과를 반환 (hello 단어는 미포함)"
   ]
  },
  {
   "cell_type": "code",
   "execution_count": 28,
   "metadata": {},
   "outputs": [
    {
     "name": "stdout",
     "output_type": "stream",
     "text": [
      "['hi!', 'world! hello python! hello!! hello!?']\n",
      "\n",
      "\n",
      "['hi!', 'world!', 'python! hello!! hello!?']\n",
      "\n",
      "\n",
      "['hi!', 'world!', 'python!', '!! hello!?']\n"
     ]
    }
   ],
   "source": [
    "# 한정된 횟수만큼 split 하기 \n",
    "\n",
    "print(reg.split(text8, 1))      # # hello 를 기준으로 1 번 split 하여 문자열을 반환\n",
    "print(\"\\n\")\n",
    "\n",
    "print(reg.split(text8, 2))      # # hello 를 기준으로 2 번 split 하여 문자열을 반환\n",
    "print(\"\\n\")\n",
    "\n",
    "print(reg.split(text8, 3))      # # hello 를 기준으로 3 번 split 하여 문자열을 반환"
   ]
  },
  {
   "cell_type": "markdown",
   "metadata": {},
   "source": [
    "## 파이썬에서 문자열 정의하기"
   ]
  },
  {
   "cell_type": "code",
   "execution_count": 29,
   "metadata": {},
   "outputs": [
    {
     "data": {
      "text/plain": [
       "'Hello World'"
      ]
     },
     "execution_count": 29,
     "metadata": {},
     "output_type": "execute_result"
    }
   ],
   "source": [
    "# 큰따옴표(\")로 양쪽 둘러싸기\n",
    "\n",
    "h = \"Hello World\"\n",
    "\n",
    "h"
   ]
  },
  {
   "cell_type": "code",
   "execution_count": 30,
   "metadata": {},
   "outputs": [
    {
     "name": "stdout",
     "output_type": "stream",
     "text": [
      "Hello World\n"
     ]
    }
   ],
   "source": [
    "print(h)"
   ]
  },
  {
   "cell_type": "code",
   "execution_count": 31,
   "metadata": {},
   "outputs": [
    {
     "data": {
      "text/plain": [
       "'Python is fun'"
      ]
     },
     "execution_count": 31,
     "metadata": {},
     "output_type": "execute_result"
    }
   ],
   "source": [
    "# 작은따옴표(')로 양쪽 둘러싸기\n",
    "\n",
    "p = 'Python is fun'\n",
    "\n",
    "p"
   ]
  },
  {
   "cell_type": "code",
   "execution_count": 32,
   "metadata": {},
   "outputs": [
    {
     "data": {
      "text/plain": [
       "' \"Python is very easy.\" he says.'"
      ]
     },
     "execution_count": 32,
     "metadata": {},
     "output_type": "execute_result"
    }
   ],
   "source": [
    "# 문자열 안에 작은따옴표나 큰따옴표를 포함시키고 싶을 때\n",
    "\n",
    "say = ' \"Python is very easy.\" he says.'  \n",
    "\n",
    "say"
   ]
  },
  {
   "cell_type": "code",
   "execution_count": 33,
   "metadata": {},
   "outputs": [
    {
     "data": {
      "text/plain": [
       "'\\n Life is too short\\nYou need python\\n'"
      ]
     },
     "execution_count": 33,
     "metadata": {},
     "output_type": "execute_result"
    }
   ],
   "source": [
    "# 일반적으로 문자열은 한 줄을 넘어가지 않지만,\n",
    "# 따옴표 세 개를 사용하면 여러 행에 걸친 텍스트가 문자열이 된다.\n",
    "\n",
    "# 작은따옴표(')와 큰따옴표(\")사이에 차이는 없음\n",
    "# 하지만, 문자열의 시작과 끝에 같은 종류의 따옴표를 사용해야 함\n",
    "\n",
    "multiline = '''\n",
    " Life is too short\n",
    "You need python\n",
    "'''\n",
    "\n",
    "multiline"
   ]
  },
  {
   "cell_type": "code",
   "execution_count": 34,
   "metadata": {},
   "outputs": [
    {
     "data": {
      "text/plain": [
       "'\\nLife is too short\\nYou need python\\n'"
      ]
     },
     "execution_count": 34,
     "metadata": {},
     "output_type": "execute_result"
    }
   ],
   "source": [
    "multiline = '''\n",
    "Life is too short\n",
    "You need python\n",
    "'''\n",
    "\n",
    "\n",
    "multiline"
   ]
  },
  {
   "cell_type": "markdown",
   "metadata": {},
   "source": [
    "### ■ raw string 이해 하기"
   ]
  },
  {
   "cell_type": "code",
   "execution_count": 35,
   "metadata": {},
   "outputs": [
    {
     "name": "stdout",
     "output_type": "stream",
     "text": [
      "\\\\Hello\\nWorld\\\\\n"
     ]
    }
   ],
   "source": [
    "# 아래에서 주어진 문자열을 그대로 출력하고자 할 때\n",
    "\n",
    "print(r'\\\\Hello\\nWorld\\\\')"
   ]
  },
  {
   "cell_type": "code",
   "execution_count": 36,
   "metadata": {},
   "outputs": [
    {
     "name": "stdout",
     "output_type": "stream",
     "text": [
      "\\Hello\n",
      "World\\\n"
     ]
    }
   ],
   "source": [
    "# 만약 raw string 을 사용하지 않으면 \n",
    "\n",
    "\n",
    "print('\\\\Hello\\nWorld\\\\')"
   ]
  },
  {
   "cell_type": "code",
   "execution_count": 37,
   "metadata": {},
   "outputs": [
    {
     "data": {
      "text/plain": [
       "'\\\\\\\\Hello\\\\nWord\\\\\\\\'"
      ]
     },
     "execution_count": 37,
     "metadata": {},
     "output_type": "execute_result"
    }
   ],
   "source": [
    "#실습 \n",
    "# Raw String 규칙에 의하여 백슬래시 두개 대신 한개만 써도 두개를 쓴것과 동일한 의미 \n",
    "\n",
    "rs = r'\\\\Hello\\nWord\\\\'\n",
    "\n",
    "rs"
   ]
  }
 ],
 "metadata": {
  "kernelspec": {
   "display_name": "Python 3",
   "language": "python",
   "name": "python3"
  },
  "language_info": {
   "codemirror_mode": {
    "name": "ipython",
    "version": 3
   },
   "file_extension": ".py",
   "mimetype": "text/x-python",
   "name": "python",
   "nbconvert_exporter": "python",
   "pygments_lexer": "ipython3",
   "version": "3.7.9"
  }
 },
 "nbformat": 4,
 "nbformat_minor": 4
}
