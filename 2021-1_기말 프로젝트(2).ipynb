{
 "cells": [
  {
   "cell_type": "markdown",
   "id": "2b9e28d2",
   "metadata": {},
   "source": [
    "- 1에서 백업해둔 train.csv, test.csv 불러오기"
   ]
  },
  {
   "cell_type": "code",
   "execution_count": 1,
   "id": "9e69275e",
   "metadata": {},
   "outputs": [],
   "source": [
    "import numpy as np\n",
    "import pandas as pd\n",
    "import matplotlib.pyplot as plt"
   ]
  },
  {
   "cell_type": "code",
   "execution_count": 2,
   "id": "a1214d3e",
   "metadata": {},
   "outputs": [
    {
     "data": {
      "text/html": [
       "<div>\n",
       "<style scoped>\n",
       "    .dataframe tbody tr th:only-of-type {\n",
       "        vertical-align: middle;\n",
       "    }\n",
       "\n",
       "    .dataframe tbody tr th {\n",
       "        vertical-align: top;\n",
       "    }\n",
       "\n",
       "    .dataframe thead th {\n",
       "        text-align: right;\n",
       "    }\n",
       "</style>\n",
       "<table border=\"1\" class=\"dataframe\">\n",
       "  <thead>\n",
       "    <tr style=\"text-align: right;\">\n",
       "      <th></th>\n",
       "      <th>Unnamed: 0</th>\n",
       "      <th>content</th>\n",
       "      <th>label</th>\n",
       "    </tr>\n",
       "  </thead>\n",
       "  <tbody>\n",
       "    <tr>\n",
       "      <th>0</th>\n",
       "      <td>0</td>\n",
       "      <td>키엘 처음 써보는건데 아직 사용은 안해봐서 잘 모르겠구요 유명한 만큼 좋긴 하겠죠 ...</td>\n",
       "      <td>0</td>\n",
       "    </tr>\n",
       "    <tr>\n",
       "      <th>1</th>\n",
       "      <td>1</td>\n",
       "      <td>항상 사용중인 피지오겔 로션 저렴하게 구입했습니다. 배송도 매우 빠릅니다. 잘 받았...</td>\n",
       "      <td>1</td>\n",
       "    </tr>\n",
       "    <tr>\n",
       "      <th>2</th>\n",
       "      <td>2</td>\n",
       "      <td>맘에 듭니다 배송도 빠르고 as도 잘 처리해주셨습니다</td>\n",
       "      <td>1</td>\n",
       "    </tr>\n",
       "    <tr>\n",
       "      <th>3</th>\n",
       "      <td>3</td>\n",
       "      <td>아토피 피부에 자극없이 좋아요</td>\n",
       "      <td>1</td>\n",
       "    </tr>\n",
       "    <tr>\n",
       "      <th>4</th>\n",
       "      <td>4</td>\n",
       "      <td>예전에 쓰다가 이번에 다시 쓰는데 좋네요</td>\n",
       "      <td>1</td>\n",
       "    </tr>\n",
       "    <tr>\n",
       "      <th>...</th>\n",
       "      <td>...</td>\n",
       "      <td>...</td>\n",
       "      <td>...</td>\n",
       "    </tr>\n",
       "    <tr>\n",
       "      <th>2101</th>\n",
       "      <td>2101</td>\n",
       "      <td>촉촉하고 피부 자극 없는 제품입니다.</td>\n",
       "      <td>1</td>\n",
       "    </tr>\n",
       "    <tr>\n",
       "      <th>2102</th>\n",
       "      <td>2102</td>\n",
       "      <td>믿고 구입하는 gs샵인데 이번엔 정말 실망이네요.사용했던 건지 반품된 상품인지 포장...</td>\n",
       "      <td>0</td>\n",
       "    </tr>\n",
       "    <tr>\n",
       "      <th>2103</th>\n",
       "      <td>2103</td>\n",
       "      <td>그냥그래요 생각보다 작고 스킨은큰데 ㅡㅡ 세럼 이거 뭐 스킨하나에 세럼 세개사야겟는...</td>\n",
       "      <td>0</td>\n",
       "    </tr>\n",
       "    <tr>\n",
       "      <th>2104</th>\n",
       "      <td>2104</td>\n",
       "      <td>아직 사용전이라... 피부에 잘 맞으면 좋겠습니다.</td>\n",
       "      <td>1</td>\n",
       "    </tr>\n",
       "    <tr>\n",
       "      <th>2105</th>\n",
       "      <td>2105</td>\n",
       "      <td>아들이 잘사용하고있어요.\\n촉촉하고 트러블이덜생기는거같아요.</td>\n",
       "      <td>1</td>\n",
       "    </tr>\n",
       "  </tbody>\n",
       "</table>\n",
       "<p>2106 rows × 3 columns</p>\n",
       "</div>"
      ],
      "text/plain": [
       "      Unnamed: 0                                            content  label\n",
       "0              0  키엘 처음 써보는건데 아직 사용은 안해봐서 잘 모르겠구요 유명한 만큼 좋긴 하겠죠 ...      0\n",
       "1              1  항상 사용중인 피지오겔 로션 저렴하게 구입했습니다. 배송도 매우 빠릅니다. 잘 받았...      1\n",
       "2              2                      맘에 듭니다 배송도 빠르고 as도 잘 처리해주셨습니다      1\n",
       "3              3                                   아토피 피부에 자극없이 좋아요      1\n",
       "4              4                             예전에 쓰다가 이번에 다시 쓰는데 좋네요      1\n",
       "...          ...                                                ...    ...\n",
       "2101        2101                               촉촉하고 피부 자극 없는 제품입니다.      1\n",
       "2102        2102  믿고 구입하는 gs샵인데 이번엔 정말 실망이네요.사용했던 건지 반품된 상품인지 포장...      0\n",
       "2103        2103  그냥그래요 생각보다 작고 스킨은큰데 ㅡㅡ 세럼 이거 뭐 스킨하나에 세럼 세개사야겟는...      0\n",
       "2104        2104                       아직 사용전이라... 피부에 잘 맞으면 좋겠습니다.      1\n",
       "2105        2105                  아들이 잘사용하고있어요.\\n촉촉하고 트러블이덜생기는거같아요.      1\n",
       "\n",
       "[2106 rows x 3 columns]"
      ]
     },
     "execution_count": 2,
     "metadata": {},
     "output_type": "execute_result"
    }
   ],
   "source": [
    "train_data = pd.read_csv(\"train.csv\", sep=',')\n",
    "\n",
    "train_data"
   ]
  },
  {
   "cell_type": "code",
   "execution_count": 3,
   "id": "edd22401",
   "metadata": {},
   "outputs": [
    {
     "data": {
      "text/html": [
       "<div>\n",
       "<style scoped>\n",
       "    .dataframe tbody tr th:only-of-type {\n",
       "        vertical-align: middle;\n",
       "    }\n",
       "\n",
       "    .dataframe tbody tr th {\n",
       "        vertical-align: top;\n",
       "    }\n",
       "\n",
       "    .dataframe thead th {\n",
       "        text-align: right;\n",
       "    }\n",
       "</style>\n",
       "<table border=\"1\" class=\"dataframe\">\n",
       "  <thead>\n",
       "    <tr style=\"text-align: right;\">\n",
       "      <th></th>\n",
       "      <th>Unnamed: 0</th>\n",
       "      <th>content</th>\n",
       "      <th>label</th>\n",
       "    </tr>\n",
       "  </thead>\n",
       "  <tbody>\n",
       "    <tr>\n",
       "      <th>0</th>\n",
       "      <td>0</td>\n",
       "      <td>쓰던거라 만족하면 사용중이에요</td>\n",
       "      <td>1</td>\n",
       "    </tr>\n",
       "    <tr>\n",
       "      <th>1</th>\n",
       "      <td>1</td>\n",
       "      <td>원래쓰던 제품인데 여름엔 너무 안맞네여ㅜㅜ</td>\n",
       "      <td>1</td>\n",
       "    </tr>\n",
       "    <tr>\n",
       "      <th>2</th>\n",
       "      <td>2</td>\n",
       "      <td>배송도 빠르고 피부에도 잘맞아서 주문했어요</td>\n",
       "      <td>1</td>\n",
       "    </tr>\n",
       "    <tr>\n",
       "      <th>3</th>\n",
       "      <td>3</td>\n",
       "      <td>피부에 잘맞는지 알아보고 구매하는게.. 유분이 정말 많거나 문제성 피부에만 맞는 앰...</td>\n",
       "      <td>0</td>\n",
       "    </tr>\n",
       "    <tr>\n",
       "      <th>4</th>\n",
       "      <td>4</td>\n",
       "      <td>잘 받았습니다. 근데 리뉴얼 버전은 그닥 효과가 없는 것 같네요,</td>\n",
       "      <td>0</td>\n",
       "    </tr>\n",
       "    <tr>\n",
       "      <th>...</th>\n",
       "      <td>...</td>\n",
       "      <td>...</td>\n",
       "      <td>...</td>\n",
       "    </tr>\n",
       "    <tr>\n",
       "      <th>229</th>\n",
       "      <td>229</td>\n",
       "      <td>추가구성 안와서 보내달라고 했는데 잘 처리해주셔서 감사합니다</td>\n",
       "      <td>1</td>\n",
       "    </tr>\n",
       "    <tr>\n",
       "      <th>230</th>\n",
       "      <td>230</td>\n",
       "      <td>처리불만족입니다.</td>\n",
       "      <td>0</td>\n",
       "    </tr>\n",
       "    <tr>\n",
       "      <th>231</th>\n",
       "      <td>231</td>\n",
       "      <td>피부다극없고 향도 자극적이지않고 촉촉하니 좋아요</td>\n",
       "      <td>1</td>\n",
       "    </tr>\n",
       "    <tr>\n",
       "      <th>232</th>\n",
       "      <td>232</td>\n",
       "      <td>실망 . 진짜 왜 리뉴얼 된건지. 몇년 내내 썻던 제품인데 리뉴얼 된 이후로 안나던...</td>\n",
       "      <td>0</td>\n",
       "    </tr>\n",
       "    <tr>\n",
       "      <th>233</th>\n",
       "      <td>233</td>\n",
       "      <td>얼굴이 땡기기 시작해서 구매했는데요.조금은 효과가 있지만 완전 촉촉하다곤 말하기 힘...</td>\n",
       "      <td>1</td>\n",
       "    </tr>\n",
       "  </tbody>\n",
       "</table>\n",
       "<p>234 rows × 3 columns</p>\n",
       "</div>"
      ],
      "text/plain": [
       "     Unnamed: 0                                            content  label\n",
       "0             0                                   쓰던거라 만족하면 사용중이에요      1\n",
       "1             1                            원래쓰던 제품인데 여름엔 너무 안맞네여ㅜㅜ      1\n",
       "2             2                            배송도 빠르고 피부에도 잘맞아서 주문했어요      1\n",
       "3             3  피부에 잘맞는지 알아보고 구매하는게.. 유분이 정말 많거나 문제성 피부에만 맞는 앰...      0\n",
       "4             4               잘 받았습니다. 근데 리뉴얼 버전은 그닥 효과가 없는 것 같네요,      0\n",
       "..          ...                                                ...    ...\n",
       "229         229                  추가구성 안와서 보내달라고 했는데 잘 처리해주셔서 감사합니다      1\n",
       "230         230                                          처리불만족입니다.      0\n",
       "231         231                         피부다극없고 향도 자극적이지않고 촉촉하니 좋아요      1\n",
       "232         232  실망 . 진짜 왜 리뉴얼 된건지. 몇년 내내 썻던 제품인데 리뉴얼 된 이후로 안나던...      0\n",
       "233         233  얼굴이 땡기기 시작해서 구매했는데요.조금은 효과가 있지만 완전 촉촉하다곤 말하기 힘...      1\n",
       "\n",
       "[234 rows x 3 columns]"
      ]
     },
     "execution_count": 3,
     "metadata": {},
     "output_type": "execute_result"
    }
   ],
   "source": [
    "test_data = pd.read_csv(\"test.csv\", sep=',')\n",
    "\n",
    "test_data"
   ]
  },
  {
   "cell_type": "markdown",
   "id": "49096713",
   "metadata": {},
   "source": [
    "### 2. 데이터 전처리\n",
    "\n",
    "- 정규표현식을 활용하여 불필요한 특수문자 및 null 값을 제거하였다."
   ]
  },
  {
   "cell_type": "code",
   "execution_count": 4,
   "id": "351f85e2",
   "metadata": {},
   "outputs": [],
   "source": [
    "# 파이썬에서 정규표현식 활용을 위한 re 모듈 import\n",
    "import re"
   ]
  },
  {
   "cell_type": "code",
   "execution_count": 5,
   "id": "8fc43343",
   "metadata": {},
   "outputs": [
    {
     "name": "stdout",
     "output_type": "stream",
     "text": [
      "전처리 후 train 결과:  2097\n"
     ]
    },
    {
     "name": "stderr",
     "output_type": "stream",
     "text": [
      "<ipython-input-5-e22683335ee4>:2: FutureWarning: The default value of regex will change from True to False in a future version.\n",
      "  train_data['content'] = train_data['content'].str.replace(\"[^ㄱ-ㅎㅏ-ㅣ가-힣 ]\",\"\")\n",
      "<ipython-input-5-e22683335ee4>:11: FutureWarning: The default value of regex will change from True to False in a future version.\n",
      "  train_data['content'] = train_data['content'].str.replace('^ +', \"\")\n"
     ]
    }
   ],
   "source": [
    "# train_data에서 한글과 공백을 제외하고 모두 제거\n",
    "train_data['content'] = train_data['content'].str.replace(\"[^ㄱ-ㅎㅏ-ㅣ가-힣 ]\",\"\")\n",
    "\n",
    "# 제품명 모두 제거\n",
    "train_data['content'] = train_data['content'].str.replace(\"피지오겔\",\"\")\n",
    "train_data['content'] = train_data['content'].str.replace(\"피지 오겔\",\"\")\n",
    "train_data['content'] = train_data['content'].str.replace(\"키엘\",\"\")\n",
    "train_data['content'] = train_data['content'].str.replace(\"더랩\",\"\")\n",
    "train_data['content'] = train_data['content'].str.replace(\"바이랑두\",\"\")\n",
    "\n",
    "train_data['content'] = train_data['content'].str.replace('^ +', \"\")\n",
    "train_data['content'].replace('', np.nan, inplace=True)\n",
    "\n",
    "# null 값 제거\n",
    "train_data = train_data.dropna(how = 'any')\n",
    "\n",
    "# 전처리 결과\n",
    "print('전처리 후 train 결과: ', len(train_data))"
   ]
  },
  {
   "cell_type": "code",
   "execution_count": 6,
   "id": "696f5a19",
   "metadata": {},
   "outputs": [
    {
     "name": "stdout",
     "output_type": "stream",
     "text": [
      "전처리 후 train 결과:  233\n"
     ]
    },
    {
     "name": "stderr",
     "output_type": "stream",
     "text": [
      "<ipython-input-6-704ba5ff7c59>:2: FutureWarning: The default value of regex will change from True to False in a future version.\n",
      "  test_data['content'] = test_data['content'].str.replace(\"[^ㄱ-ㅎㅏ-ㅣ가-힣 ]\",\"\")\n",
      "<ipython-input-6-704ba5ff7c59>:11: FutureWarning: The default value of regex will change from True to False in a future version.\n",
      "  test_data['content'] = test_data['content'].str.replace('^ +', \"\")\n"
     ]
    }
   ],
   "source": [
    "# test_data에서 한글과 공백을 제외하고 모두 제거\n",
    "test_data['content'] = test_data['content'].str.replace(\"[^ㄱ-ㅎㅏ-ㅣ가-힣 ]\",\"\")\n",
    "\n",
    "# 제품명 모두 제거\n",
    "test_data['content'] = test_data['content'].str.replace(\"피지오겔\",\"\")\n",
    "test_data['content'] = test_data['content'].str.replace(\"피지 오겔\",\"\")\n",
    "test_data['content'] = test_data['content'].str.replace(\"키엘\",\"\")\n",
    "test_data['content'] = test_data['content'].str.replace(\"더랩\",\"\")\n",
    "test_data['content'] = test_data['content'].str.replace(\"바이랑두\",\"\")\n",
    "\n",
    "test_data['content'] = test_data['content'].str.replace('^ +', \"\")\n",
    "test_data['content'].replace('', np.nan, inplace=True)\n",
    "\n",
    "# null 값 제거\n",
    "test_data = test_data.dropna(how = 'any')\n",
    "\n",
    "# 전처리 결과\n",
    "print('전처리 후 train 결과: ', len(test_data))"
   ]
  },
  {
   "cell_type": "markdown",
   "id": "f8fe4050",
   "metadata": {},
   "source": [
    "### 3. 토큰화\n",
    "\n",
    "- 불용어 제거: 불용어 제거 후 X_train, X_test에 저장\n",
    "    - 토큰화를 위한 형태소 분석기로 KoNLPy의 okt 모듈 사용"
   ]
  },
  {
   "cell_type": "code",
   "execution_count": 7,
   "id": "449a5b72",
   "metadata": {},
   "outputs": [],
   "source": [
    "# 토큰화에 필요한 모듈 로드\n",
    "\n",
    "from konlpy.tag import Okt\n",
    "from tensorflow.keras.preprocessing.text import Tokenizer\n",
    "from tensorflow.keras.preprocessing.sequence import pad_sequences"
   ]
  },
  {
   "cell_type": "code",
   "execution_count": 8,
   "id": "b10a128b",
   "metadata": {},
   "outputs": [],
   "source": [
    "# 불용어 정의\n",
    "\n",
    "stopwords = ['의','가','이','은','들','는','좀','잘','걍','과','도','를','으로','자','에','와','한','하다']"
   ]
  },
  {
   "cell_type": "code",
   "execution_count": 9,
   "id": "3963cd52",
   "metadata": {},
   "outputs": [],
   "source": [
    "# train 데이터\n",
    "\n",
    "okt = Okt()\n",
    "X_train = []\n",
    "\n",
    "for sentence in train_data['content']:\n",
    "    # 토큰화\n",
    "    temp_X = okt.morphs(sentence, stem=True)\n",
    "    \n",
    "    # 불용어 제거\n",
    "    temp_X = [word for word in temp_X if not word in stopwords]\n",
    "    \n",
    "    # 불용어를 제거해서 X_train에 저장\n",
    "    X_train.append(temp_X)"
   ]
  },
  {
   "cell_type": "code",
   "execution_count": 10,
   "id": "f399a2ef",
   "metadata": {},
   "outputs": [
    {
     "name": "stdout",
     "output_type": "stream",
     "text": [
      "[['처음', '써다', '보다', '아직', '사용', '안', '해보다', '자다', '모르다', '유명하다', '만큼', '좋다', '배송', '너무', '느리다', '일주일', '화가', '나다', '사용', '해보다', '괜찮다', '좋다'], ['항상', '사용', '중', '인', '로션', '저렴하다', '구입', '배송', '매우', '빠르다', '자다', '받다'], ['맘', '듭니', '다', '배송', '빠르다', '자다', '처리', '해주다']]\n"
     ]
    }
   ],
   "source": [
    "# 상위 3개의 sample 확인\n",
    "print(X_train[:3])"
   ]
  },
  {
   "cell_type": "code",
   "execution_count": 11,
   "id": "048d0d39",
   "metadata": {},
   "outputs": [],
   "source": [
    "# test 데이터\n",
    "\n",
    "X_test = []\n",
    "\n",
    "for sentence in test_data['content']:\n",
    "    temp_X = okt.morphs(sentence, stem=True)\n",
    "    temp_X = [word for word in temp_X if not word in stopwords]\n",
    "    X_test.append(temp_X)"
   ]
  },
  {
   "cell_type": "markdown",
   "id": "0673738c",
   "metadata": {},
   "source": [
    "### 4. 정수 인코딩\n",
    "\n",
    "- 등장 빈도가 높은 순대로 정수 부여 (높은 값일 수록 등장 빈도수 낮음)\n",
    "- 빈도 수가 2회 보다 낮은 경우 배제"
   ]
  },
  {
   "cell_type": "code",
   "execution_count": 12,
   "id": "0bf61401",
   "metadata": {},
   "outputs": [],
   "source": [
    "tokenizer = Tokenizer()\n",
    "tokenizer.fit_on_texts(X_train)"
   ]
  },
  {
   "cell_type": "code",
   "execution_count": 13,
   "id": "e3be1f11",
   "metadata": {},
   "outputs": [
    {
     "name": "stdout",
     "output_type": "stream",
     "text": [
      "단어 집합(vocabulary)의 크기 : 3816\n",
      "등장 빈도가 2번 이하인 희귀 단어의 수: 2239\n",
      "단어 집합에서 희귀 단어의 비율: 58.67400419287212\n",
      "전체 등장 빈도에서 희귀 단어 등장 빈도 비율: 7.1757903049137735\n"
     ]
    }
   ],
   "source": [
    "# threshold보다 작은 단어의 비중 확인\n",
    "# 여기서 threshold는 3회로 설정\n",
    "\n",
    "threshold = 3\n",
    "total_cnt = len(tokenizer.word_index)\n",
    "rare_cnt = 0\n",
    "total_freq = 0\n",
    "rare_freq = 0\n",
    "\n",
    "# 단어와 빈도수의 쌍(pair)을 key와 value로 받음\n",
    "for key, value in tokenizer.word_counts.items():\n",
    "    total_freq = total_freq + value\n",
    "    \n",
    "    # 단어의 등장 빈도수가 threshold보다 작으면 rare_cnt + 1, rare_freq에 추가\n",
    "    if(value < threshold):\n",
    "        rare_cnt = rare_cnt + 1\n",
    "        rare_freq = rare_freq + value\n",
    "\n",
    "print('단어 집합(vocabulary)의 크기 :',total_cnt)\n",
    "print('등장 빈도가 %s번 이하인 희귀 단어의 수: %s'%(threshold - 1, rare_cnt))\n",
    "print(\"단어 집합에서 희귀 단어의 비율:\", (rare_cnt / total_cnt)*100)\n",
    "print(\"전체 등장 빈도에서 희귀 단어 등장 빈도 비율:\", (rare_freq / total_freq)*100)"
   ]
  },
  {
   "cell_type": "code",
   "execution_count": 14,
   "id": "1e33fe75",
   "metadata": {},
   "outputs": [
    {
     "name": "stdout",
     "output_type": "stream",
     "text": [
      "단어 집합의 크기 : 1578\n"
     ]
    }
   ],
   "source": [
    "# 0번 패딩 토큰을 고려하여 1을 더해줌(0번은 패딩을 위한 토큰)\n",
    "vocab_size = total_cnt - rare_cnt + 1\n",
    "\n",
    "print('단어 집합의 크기 :',vocab_size)"
   ]
  },
  {
   "cell_type": "code",
   "execution_count": 15,
   "id": "52ce0540",
   "metadata": {},
   "outputs": [],
   "source": [
    "tokenizer = Tokenizer(vocab_size)\n",
    "tokenizer.fit_on_texts(X_train)\n",
    "\n",
    "X_train = tokenizer.texts_to_sequences(X_train)\n",
    "X_test = tokenizer.texts_to_sequences(X_test)"
   ]
  },
  {
   "cell_type": "code",
   "execution_count": 16,
   "id": "45097541",
   "metadata": {},
   "outputs": [
    {
     "name": "stdout",
     "output_type": "stream",
     "text": [
      "[[76, 13, 6, 109, 5, 18, 135, 16, 34, 187, 356, 1, 9, 22, 160, 370, 761, 97, 5, 135, 112, 1], [49, 5, 82, 136, 15, 47, 54, 9, 435, 50, 16, 30], [281, 954, 36, 9, 50, 16, 635, 144]]\n"
     ]
    }
   ],
   "source": [
    "# 정수 인코딩 결과\n",
    "\n",
    "print(X_train[:3])"
   ]
  },
  {
   "cell_type": "code",
   "execution_count": 17,
   "id": "b221b1fd",
   "metadata": {},
   "outputs": [],
   "source": [
    "y_train = np.array(train_data['label'])\n",
    "y_test = np.array(test_data['label'])"
   ]
  },
  {
   "cell_type": "markdown",
   "id": "2140d8fe",
   "metadata": {},
   "source": [
    "- 빈도 수 적은 단어 제거 후 생성된 empty sample 제거"
   ]
  },
  {
   "cell_type": "code",
   "execution_count": 18,
   "id": "5d72e8fd",
   "metadata": {},
   "outputs": [
    {
     "name": "stdout",
     "output_type": "stream",
     "text": [
      "2095\n",
      "2095\n"
     ]
    },
    {
     "name": "stderr",
     "output_type": "stream",
     "text": [
      "C:\\Users\\sua91\\anaconda3\\lib\\site-packages\\numpy\\core\\_asarray.py:83: VisibleDeprecationWarning: Creating an ndarray from ragged nested sequences (which is a list-or-tuple of lists-or-tuples-or ndarrays with different lengths or shapes) is deprecated. If you meant to do this, you must specify 'dtype=object' when creating the ndarray\n",
      "  return array(a, dtype, copy=False, order=order)\n"
     ]
    }
   ],
   "source": [
    "drop_train = [index for index, sentence in enumerate(X_train) if len(sentence) < 1]\n",
    "\n",
    "# empty 샘플 제거\n",
    "X_train = np.delete(X_train, drop_train, axis=0)\n",
    "y_train = np.delete(y_train, drop_train, axis=0)\n",
    "\n",
    "# 샘플 개수 확인\n",
    "print(len(X_train))\n",
    "print(len(y_train))"
   ]
  },
  {
   "cell_type": "markdown",
   "id": "70b37323",
   "metadata": {},
   "source": [
    "### 5. 패딩\n",
    "\n",
    "- 서로 다른 길이의 sample을 패딩을 통해 동일하게 맞춰줌"
   ]
  },
  {
   "cell_type": "code",
   "execution_count": 19,
   "id": "9fd2215f",
   "metadata": {},
   "outputs": [
    {
     "name": "stdout",
     "output_type": "stream",
     "text": [
      "리뷰의 최대 길이 : 241\n",
      "리뷰의 평균 길이 : 17.39379474940334\n"
     ]
    }
   ],
   "source": [
    "# 가장 길이가 긴 리뷰와 전체 길이 분포\n",
    "print('리뷰의 최대 길이 :',max(len(l) for l in X_train))\n",
    "print('리뷰의 평균 길이 :',sum(map(len, X_train))/len(X_train))"
   ]
  },
  {
   "cell_type": "code",
   "execution_count": 20,
   "id": "660d6923",
   "metadata": {},
   "outputs": [
    {
     "data": {
      "image/png": "[encoded data removed]",
      "text/plain": [
       "<Figure size 432x288 with 1 Axes>"
      ]
     },
     "metadata": {
      "needs_background": "light"
     },
     "output_type": "display_data"
    }
   ],
   "source": [
    "# 대체적으로 70자 내외의 길이를 가짐을 확인\n",
    "\n",
    "plt.hist([len(s) for s in X_train], bins=50)\n",
    "plt.xlabel('length of samples')\n",
    "plt.ylabel('number of samples')\n",
    "plt.show()"
   ]
  },
  {
   "cell_type": "code",
   "execution_count": 21,
   "id": "51a392ea",
   "metadata": {},
   "outputs": [],
   "source": [
    "def below_threshold_len(max_len, nested_list):\n",
    "    cnt = 0\n",
    "    for s in nested_list:\n",
    "        if(len(s) <= max_len):\n",
    "            cnt = cnt + 1\n",
    "    print('전체 샘플 중 길이가 %s 이하인 샘플의 비율: %s'%(max_len, (cnt / len(nested_list))*100))"
   ]
  },
  {
   "cell_type": "code",
   "execution_count": 22,
   "id": "e752fe06",
   "metadata": {},
   "outputs": [
    {
     "name": "stdout",
     "output_type": "stream",
     "text": [
      "전체 샘플 중 길이가 70 이하인 샘플의 비율: 98.23389021479714\n"
     ]
    }
   ],
   "source": [
    "# 전체 train data 중 98%의 리뷰가 70자 이하의 길이를 가짐을 확인\n",
    "max_len = 70\n",
    "below_threshold_len(max_len, X_train)"
   ]
  },
  {
   "cell_type": "code",
   "execution_count": 23,
   "id": "8f4782fd",
   "metadata": {},
   "outputs": [],
   "source": [
    "# 모든 sample의 길이를 70으로 맞춰줌.\n",
    "X_train = pad_sequences(X_train, maxlen = max_len)\n",
    "X_test = pad_sequences(X_test, maxlen = max_len)"
   ]
  },
  {
   "cell_type": "markdown",
   "id": "9e7f2394",
   "metadata": {},
   "source": [
    "### 6. LSTM으로 쇼핑 상품 리뷰 감성 분류하기"
   ]
  },
  {
   "cell_type": "code",
   "execution_count": 24,
   "id": "e8c4b1e9",
   "metadata": {},
   "outputs": [],
   "source": [
    "# 필요한 모듈 로드\n",
    "\n",
    "from tensorflow.keras.layers import Embedding, Dense, LSTM, Dropout\n",
    "from tensorflow.keras.models import Sequential\n",
    "from tensorflow.keras.models import load_model\n",
    "from tensorflow.keras.callbacks import EarlyStopping, ModelCheckpoint"
   ]
  },
  {
   "cell_type": "markdown",
   "id": "97fcd16b",
   "metadata": {},
   "source": [
    "- 분류 모델로는 LSTM을, activation function으로는 relu를 사용\n",
    "- 추가적으로 과적합 방지를 위해 dropout 추가"
   ]
  },
  {
   "cell_type": "code",
   "execution_count": 25,
   "id": "4175ad4b",
   "metadata": {},
   "outputs": [],
   "source": [
    "model = Sequential()\n",
    "model.add(Embedding(vocab_size, 100))\n",
    "model.add(LSTM(120))\n",
    "model.add(Dropout(0.2))\n",
    "model.add(Dense(50, activation='relu'))\n",
    "model.add(Dropout(0.4))\n",
    "model.add(Dense(1, activation='sigmoid'))"
   ]
  },
  {
   "cell_type": "code",
   "execution_count": 26,
   "id": "a30c1fe2",
   "metadata": {},
   "outputs": [],
   "source": [
    "es = EarlyStopping(monitor='val_loss', mode='min', verbose=1, patience=4)\n",
    "mc = ModelCheckpoint('best_model.h5', monitor='val_acc', mode='max', verbose=1, save_best_only=True)"
   ]
  },
  {
   "cell_type": "code",
   "execution_count": 27,
   "id": "f767e566",
   "metadata": {},
   "outputs": [
    {
     "name": "stdout",
     "output_type": "stream",
     "text": [
      "Epoch 1/15\n",
      "28/28 [==============================] - ETA: 0s - loss: 0.6326 - acc: 0.6784- ETA: 0s - loss: 0.6677\n",
      "Epoch 00001: val_acc improved from -inf to 0.83771, saving model to best_model.h5\n",
      "28/28 [==============================] - 3s 99ms/step - loss: 0.6326 - acc: 0.6784 - val_loss: 0.4780 - val_acc: 0.8377\n",
      "Epoch 2/15\n",
      "28/28 [==============================] - ETA: 0s - loss: 0.4079 - acc: 0.8377\n",
      "Epoch 00002: val_acc improved from 0.83771 to 0.84726, saving model to best_model.h5\n",
      "28/28 [==============================] - 2s 74ms/step - loss: 0.4079 - acc: 0.8377 - val_loss: 0.3623 - val_acc: 0.8473\n",
      "Epoch 3/15\n",
      "28/28 [==============================] - ETA: 0s - loss: 0.2834 - acc: 0.9010\n",
      "Epoch 00003: val_acc did not improve from 0.84726\n",
      "28/28 [==============================] - 2s 84ms/step - loss: 0.2834 - acc: 0.9010 - val_loss: 0.3666 - val_acc: 0.8425\n",
      "Epoch 4/15\n",
      "28/28 [==============================] - ETA: 0s - loss: 0.2370 - acc: 0.9153\n",
      "Epoch 00004: val_acc improved from 0.84726 to 0.86396, saving model to best_model.h5\n",
      "28/28 [==============================] - 2s 74ms/step - loss: 0.2370 - acc: 0.9153 - val_loss: 0.3283 - val_acc: 0.8640\n",
      "Epoch 5/15\n",
      "28/28 [==============================] - ETA: 0s - loss: 0.1831 - acc: 0.9451\n",
      "Epoch 00005: val_acc did not improve from 0.86396\n",
      "28/28 [==============================] - 2s 72ms/step - loss: 0.1831 - acc: 0.9451 - val_loss: 0.5779 - val_acc: 0.8329\n",
      "Epoch 6/15\n",
      "28/28 [==============================] - ETA: 0s - loss: 0.1617 - acc: 0.9481\n",
      "Epoch 00006: val_acc improved from 0.86396 to 0.86874, saving model to best_model.h5\n",
      "28/28 [==============================] - 2s 76ms/step - loss: 0.1617 - acc: 0.9481 - val_loss: 0.3851 - val_acc: 0.8687\n",
      "Epoch 7/15\n",
      "28/28 [==============================] - ETA: 0s - loss: 0.1372 - acc: 0.9588\n",
      "Epoch 00007: val_acc did not improve from 0.86874\n",
      "28/28 [==============================] - 2s 77ms/step - loss: 0.1372 - acc: 0.9588 - val_loss: 0.4586 - val_acc: 0.8687\n",
      "Epoch 8/15\n",
      "28/28 [==============================] - ETA: 0s - loss: 0.1130 - acc: 0.9648\n",
      "Epoch 00008: val_acc did not improve from 0.86874\n",
      "28/28 [==============================] - 2s 85ms/step - loss: 0.1130 - acc: 0.9648 - val_loss: 0.5472 - val_acc: 0.8663\n",
      "Epoch 00008: early stopping\n"
     ]
    }
   ],
   "source": [
    "model.compile(optimizer='rmsprop', loss='binary_crossentropy', metrics=['acc'])\n",
    "\n",
    "# epoch: 15로 설정\n",
    "# train data의 20%를 검증 데이터로 사용\n",
    "history = model.fit(X_train, y_train, epochs=15, callbacks=[es, mc], batch_size=60, validation_split=0.2)"
   ]
  },
  {
   "cell_type": "code",
   "execution_count": 28,
   "id": "b09b9565",
   "metadata": {},
   "outputs": [
    {
     "name": "stdout",
     "output_type": "stream",
     "text": [
      "8/8 [==============================] - 0s 15ms/step - loss: 0.4088 - acc: 0.8455\n",
      "\n",
      " 테스트 정확도: 0.8455\n"
     ]
    }
   ],
   "source": [
    "# 검증 데이터의 정확도 가장 높은 모델인 'best_model.h5' load\n",
    "loaded_model = load_model('best_model.h5')\n",
    "\n",
    "# train accuracy 출력\n",
    "print(\"\\n 테스트 정확도: %.4f\" % (loaded_model.evaluate(X_test, y_test)[1]))"
   ]
  },
  {
   "cell_type": "markdown",
   "id": "6883d8bd",
   "metadata": {},
   "source": [
    "### 7. 리뷰 예측 모델 테스트\n",
    "\n",
    "- 상품에 대한 리뷰 경향성 예측을 하기 전 각 리뷰에 대해 알맞게 분류하는지 테스트\n",
    "- sentiment_predict: 작성한 리뷰에 대해 해당 리뷰가 긍정인지 부정인지 예측하는 함수"
   ]
  },
  {
   "cell_type": "code",
   "execution_count": 29,
   "id": "b94f6425",
   "metadata": {},
   "outputs": [],
   "source": [
    "def sentiment_predict(new_sentence):\n",
    "    # 동일한 전처리 수행\n",
    "    # (1) 토큰화\n",
    "    new_sentence = okt.morphs(new_sentence, stem=True) \n",
    "    \n",
    "    # (2) 불용어 제거\n",
    "    new_sentence = [word for word in new_sentence if not word in stopwords]\n",
    "    \n",
    "    # (3) 정수 인코딩\n",
    "    encoded = tokenizer.texts_to_sequences([new_sentence]) \n",
    "    \n",
    "    # (4) 패딩\n",
    "    pad_new = pad_sequences(encoded, maxlen = max_len)\n",
    "    \n",
    "    # (5) 예측\n",
    "    score = float(loaded_model.predict(pad_new)) \n",
    "    \n",
    "    if(score > 0.5):\n",
    "        print(\"{:.2f}% 확률로 긍정 리뷰입니다.\\n\".format(score * 100))\n",
    "    else:\n",
    "        print(\"{:.2f}% 확률로 부정 리뷰입니다.\\n\".format((1 - score) * 100))"
   ]
  },
  {
   "cell_type": "code",
   "execution_count": 30,
   "id": "c3886ef4",
   "metadata": {},
   "outputs": [
    {
     "name": "stdout",
     "output_type": "stream",
     "text": [
      "96.12% 확률로 긍정 리뷰입니다.\n",
      "\n"
     ]
    }
   ],
   "source": [
    "sentiment_predict('피부자극이 없어서 순해서 좋네요')"
   ]
  },
  {
   "cell_type": "code",
   "execution_count": 31,
   "id": "edfdd621",
   "metadata": {},
   "outputs": [
    {
     "name": "stdout",
     "output_type": "stream",
     "text": [
      "97.31% 확률로 부정 리뷰입니다.\n",
      "\n"
     ]
    }
   ],
   "source": [
    "sentiment_predict('배송이 너무 느린거 아닌가요')"
   ]
  },
  {
   "cell_type": "markdown",
   "id": "cbea2ae1",
   "metadata": {},
   "source": [
    "### 8. 특정 상품에 대한 리뷰 경향성 예측 하기\n",
    "\n",
    "- product_sentiment_predict: 특정 상품에 대한 최신 리뷰 10개를 가져와 해당 상품에 대한 최신 리뷰가 긍정적인지 부정적인지 예측하는 함수"
   ]
  },
  {
   "cell_type": "code",
   "execution_count": 32,
   "id": "5766782a",
   "metadata": {},
   "outputs": [],
   "source": [
    "def product_sentiment_predict(new_sentences):\n",
    "    positive_sent = 0\n",
    "    negative_sent = 0\n",
    "    for new_sentence in new_sentences: \n",
    "        # 동일한 전처리 수행\n",
    "        new_sentence = okt.morphs(new_sentence, stem=True) \n",
    "        new_sentence = [word for word in new_sentence if not word in stopwords]\n",
    "        encoded = tokenizer.texts_to_sequences([new_sentence]) \n",
    "        pad_new = pad_sequences(encoded, maxlen = max_len)\n",
    "        score = float(loaded_model.predict(pad_new)) \n",
    "    \n",
    "        if(score > 0.5):\n",
    "            positive_sent += 1\n",
    "        else:\n",
    "            negative_sent += 1\n",
    "    \n",
    "    if positive_sent > negative_sent:\n",
    "        print(\"해당 상품에 대한 최신 리뷰는 긍정적인 편입니다.\")\n",
    "    elif positive_sent < negative_sent:\n",
    "        print(\"해당 상품에 대한 최신 리뷰는 부정적인 편입니다.\")\n",
    "    else:\n",
    "        print(\"해당 상품에 대한 최신 리뷰는 중립입니다.\")"
   ]
  },
  {
   "cell_type": "markdown",
   "id": "0d6ed76d",
   "metadata": {},
   "source": [
    "#### 'AHC 유스래스팅 리얼 아이크림 포페이스 30ml'에 대한 상품 리뷰 감성 분석\n",
    "\n",
    "- 웹 스크래핑을 통해 최신순 10개의 리뷰를 가져와 적용"
   ]
  },
  {
   "cell_type": "code",
   "execution_count": 33,
   "id": "0a53564b",
   "metadata": {},
   "outputs": [],
   "source": [
    "url = 'https://search.shopping.naver.com/catalog/25486379522?NaPm=ct%3Dkpv1kf1c%7Cci%3Dcbe0df1180ef5dfd15a98885f45845756d54dd54%7Ctr%3Dslsl%7Csn%3D95694%7Chk%3D0bf8154c4e0c37f45357cd16a362e3b6944e7cfe'"
   ]
  },
  {
   "cell_type": "code",
   "execution_count": 35,
   "id": "848a5103",
   "metadata": {},
   "outputs": [],
   "source": [
    "from selenium import webdriver\n",
    "import time\n",
    "\n",
    "# 특정 상품에 대한 리뷰 가져오기\n",
    "product_content=[]\n",
    "\n",
    "driver = webdriver.Chrome('./chromedriver')\n",
    "driver.implicitly_wait(3)\n",
    "\n",
    "# 해당 url에 해당하는 페이지를 가져옴\n",
    "driver.get(url)\n",
    "    \n",
    "# 최신순 선택\n",
    "driver.find_element_by_xpath('//*[@id=\"section_review\"]/div[2]/div[1]/div[1]/a[2]').click()\n",
    "time.sleep(2)\n",
    "\n",
    "# 최신 리뷰 10개 스크래핑\n",
    "for child in range(1, 11): \n",
    "    content = driver.find_element_by_css_selector('#section_review > ul > li:nth-child(%s) > div.reviewItems_review__1eF8A > div.reviewItems_review_text__2Bwpa > p' %child)\n",
    "    time.sleep(2)\n",
    "    product_content.append(content.text)\n",
    "    time.sleep(2)"
   ]
  },
  {
   "cell_type": "code",
   "execution_count": 36,
   "id": "1f7dc57e",
   "metadata": {},
   "outputs": [
    {
     "name": "stdout",
     "output_type": "stream",
     "text": [
      "해당 상품에 대한 최신 리뷰는 긍정적인 편입니다.\n"
     ]
    }
   ],
   "source": [
    "product_sentiment_predict(product_content)"
   ]
  },
  {
   "cell_type": "code",
   "execution_count": null,
   "id": "40ab4551",
   "metadata": {},
   "outputs": [],
   "source": []
  }
 ],
 "metadata": {
  "kernelspec": {
   "display_name": "Python 3",
   "language": "python",
   "name": "python3"
  },
  "language_info": {
   "codemirror_mode": {
    "name": "ipython",
    "version": 3
   },
   "file_extension": ".py",
   "mimetype": "text/x-python",
   "name": "python",
   "nbconvert_exporter": "python",
   "pygments_lexer": "ipython3",
   "version": "3.8.8"
  }
 },
 "nbformat": 4,
 "nbformat_minor": 5
}
